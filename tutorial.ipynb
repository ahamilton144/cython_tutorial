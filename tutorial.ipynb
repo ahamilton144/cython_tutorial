{
 "cells": [
  {
   "cell_type": "code",
   "execution_count": 1,
   "metadata": {
    "slideshow": {
     "slide_type": "slide"
    }
   },
   "outputs": [],
   "source": [
    "%matplotlib inline"
   ]
  },
  {
   "cell_type": "markdown",
   "metadata": {
    "slideshow": {
     "slide_type": "slide"
    }
   },
   "source": [
    "# Cython tutorial\n",
    "Andrew Hamilton, September 16, 2020"
   ]
  },
  {
   "cell_type": "markdown",
   "metadata": {
    "slideshow": {
     "slide_type": "fragment"
    }
   },
   "source": [
    "### What is Cython?\n",
    "\n",
    "What we commonly call Python is really two different things: the **language** and the **implementation**. The Python language defines the syntax with which we write code. The most common implementation is CPython (written in C and Python), which compiles valide Python code into bytecode and then **interprets** it. "
   ]
  },
  {
   "cell_type": "markdown",
   "metadata": {
    "slideshow": {
     "slide_type": "fragment"
    }
   },
   "source": [
    "One of the reason's for Python's popularity is its flexibility. I can define a variable ``x = 5``, divide x by 2 to get ``2.5``, and then later set ``x = 'Florida'``. In this sequence, ``x`` will have been typed as an ``int``, ``float``, and then ``str``. Python can do this for us automatically with no problem. It will automatically allocate and deallocate memory, check for type compatibility with mathematical operations, etc. "
   ]
  },
  {
   "cell_type": "markdown",
   "metadata": {
    "slideshow": {
     "slide_type": "fragment"
    }
   },
   "source": [
    "However, this flexibility has a cost, as it requires the interpreter to handle memory, check for type compatibility, and perform a host of other tasks behind the scenes at run time. Lower-level compiled languages like C generally require the user to specify the types for variables, allocate and deallocate memory, etc. This makes them less flexible and more difficult to use, but potentially faster."
   ]
  },
  {
   "cell_type": "markdown",
   "metadata": {
    "slideshow": {
     "slide_type": "fragment"
    }
   },
   "source": [
    "Cython is an attempt to bridge the gap by bringing some of C's qualities to Python. It is technically a separate programming language which is a superset of the Python programming language; Cython code mostly looks like Python code, but it also adds optional C-inspired syntax. Most notably, it allows us to declare **static types** when defining variables/classes/functions."
   ]
  },
  {
   "cell_type": "markdown",
   "metadata": {
    "slideshow": {
     "slide_type": "fragment"
    }
   },
   "source": [
    "Cython can automatically translate our code into C (or C++), along with interface code that allows it to interact with CPython at run time. The C code is then **compiled**, generating CPython **extension modules**. These compiled modules can be imported and used within Python code with significantly lower overhead than the equivalent Python modules."
   ]
  },
  {
   "cell_type": "markdown",
   "metadata": {
    "slideshow": {
     "slide_type": "fragment"
    }
   },
   "source": [
    "From the docs:\n",
    "\n",
    ">The fundamental nature of Cython can be summed up as follows: Cython is Python with C data types.\n",
    "\n",
    ">Cython is Python: Almost any piece of Python code is also valid Cython code. (There are a few Limitations, but this approximation will serve for now.) The Cython compiler will convert it into C code which makes equivalent calls to the Python/C API.\n",
    "\n",
    ">But Cython is much more than that, because parameters and variables can be declared to have C data types. Code which manipulates Python values and C values can be freely intermixed, with conversions occurring automatically wherever possible. Reference count maintenance and error checking of Python operations is also automatic, and the full power of Python’s exception handling facilities, including the try-except and try-finally statements, is available to you – even in the midst of manipulating C data.``"
   ]
  },
  {
   "cell_type": "markdown",
   "metadata": {
    "slideshow": {
     "slide_type": "slide"
    }
   },
   "source": [
    "### Fibonacci example"
   ]
  },
  {
   "cell_type": "markdown",
   "metadata": {
    "slideshow": {
     "slide_type": "fragment"
    }
   },
   "source": [
    "The first example is a simple function that will calculate the n'th Fibonacci number. I have written six different versions of the function."
   ]
  },
  {
   "cell_type": "code",
   "execution_count": 2,
   "metadata": {
    "slideshow": {
     "slide_type": "fragment"
    }
   },
   "outputs": [
    {
     "name": "stdout",
     "output_type": "stream",
     "text": [
      "C:\\Users\\Andrew\\cython_tutorial\\fibonacci\n",
      "__pycache__\n",
      "build\n",
      "fib_cy.pyx\n",
      "fib_cy_double.pyx\n",
      "fib_py.py\n",
      "fib_py_cy.py\n",
      "fib_py_cy_double.py\n",
      "fib_py_double.py\n",
      "run_setups.sh\n",
      "setup_fibs.py\n",
      "time_versions.py\n"
     ]
    }
   ],
   "source": [
    "%cd fibonacci/\n",
    "! ls"
   ]
  },
  {
   "cell_type": "markdown",
   "metadata": {
    "slideshow": {
     "slide_type": "fragment"
    }
   },
   "source": [
    "To start, here is the pure Python version, ``fib_py.py``:"
   ]
  },
  {
   "cell_type": "code",
   "execution_count": 3,
   "metadata": {
    "slideshow": {
     "slide_type": "fragment"
    }
   },
   "outputs": [
    {
     "name": "stdout",
     "output_type": "stream",
     "text": [
      "### Function for finding n'th Fibonacci number. Copied from (Kurt W. Smith, \"Cython\", O'Reilly Media Inc., 2015).\n",
      "### Pure Python version\n",
      "\n",
      "def fib_py(n):\n",
      "    a, b = 0, 1\n",
      "    for i in range(n - 1):\n",
      "        a, b = a + b, a\n",
      "    return a\n"
     ]
    }
   ],
   "source": [
    "! cat fib_py.py"
   ]
  },
  {
   "cell_type": "code",
   "execution_count": 4,
   "metadata": {
    "slideshow": {
     "slide_type": "fragment"
    }
   },
   "outputs": [
    {
     "data": {
      "text/plain": [
       "63245986"
      ]
     },
     "execution_count": 4,
     "metadata": {},
     "output_type": "execute_result"
    }
   ],
   "source": [
    "from fib_py import fib_py\n",
    "fib_py(40)"
   ]
  },
  {
   "cell_type": "markdown",
   "metadata": {
    "slideshow": {
     "slide_type": "fragment"
    }
   },
   "source": [
    "The second version, ``fib_py_cy.py``, is the exact same as the pure Python version, but we will \"Cythonize\" it without making any manual changes."
   ]
  },
  {
   "cell_type": "markdown",
   "metadata": {
    "slideshow": {
     "slide_type": "fragment"
    }
   },
   "source": [
    "The third version, ``fib_cy.py``, is a Cythonic implementation, to which we have added variable types. Note the new file ending, **.pyx**, for Cython source files."
   ]
  },
  {
   "cell_type": "code",
   "execution_count": 5,
   "metadata": {
    "slideshow": {
     "slide_type": "fragment"
    }
   },
   "outputs": [
    {
     "name": "stdout",
     "output_type": "stream",
     "text": [
      "# cython: profile=True\n",
      "\n",
      "### Function for finding n'th Fibonacci number. Copied from (Kurt W. Smith, \"Cython\", O'Reilly Media Inc., 2015).\n",
      "### Typed Cython version\n",
      "\n",
      "def fib_cy(int n):\n",
      "    cdef int a = 0\n",
      "    cdef int b = 1\n",
      "    cdef int i\n",
      "    for i in range(n - 1):\n",
      "        a, b = a + b, a\n",
      "    return a\n"
     ]
    }
   ],
   "source": [
    "! cat fib_cy.pyx"
   ]
  },
  {
   "cell_type": "markdown",
   "metadata": {
    "slideshow": {
     "slide_type": "slide"
    }
   },
   "source": [
    "Because of the importance of types for Cython, I have also included three more files which are equivalent to the first three, except that they use floating point numbers to count. Note that **the Python float class is equivalent to C doubles, not C floats**."
   ]
  },
  {
   "cell_type": "code",
   "execution_count": 6,
   "metadata": {
    "slideshow": {
     "slide_type": "fragment"
    }
   },
   "outputs": [
    {
     "name": "stdout",
     "output_type": "stream",
     "text": [
      "### Function for finding n'th Fibonacci number. Copied from (Kurt W. Smith, \"Cython\", O'Reilly Media Inc., 2015).\n",
      "### Pure Python version\n",
      "\n",
      "def fib_py_double(n):\n",
      "    a, b = 0., 1.\n",
      "    for i in range(n - 1):\n",
      "        a, b = a + b, a\n",
      "    return a\n"
     ]
    }
   ],
   "source": [
    "! cat fib_py_double.py"
   ]
  },
  {
   "cell_type": "code",
   "execution_count": 7,
   "metadata": {
    "slideshow": {
     "slide_type": "fragment"
    }
   },
   "outputs": [
    {
     "name": "stdout",
     "output_type": "stream",
     "text": [
      "### Function for finding n'th Fibonacci number. Copied from (Kurt W. Smith, \"Cython\", O'Reilly Media Inc., 2015).\n",
      "### Typed Cython version\n",
      "\n",
      "def fib_cy_double(int n):\n",
      "    cdef double a = 0.\n",
      "    cdef double b = 1.\n",
      "    cdef int i\n",
      "    for i in range(n - 1):\n",
      "        a, b = a + b, a\n",
      "    return a\n"
     ]
    }
   ],
   "source": [
    "! cat fib_cy_double.pyx"
   ]
  },
  {
   "cell_type": "markdown",
   "metadata": {
    "slideshow": {
     "slide_type": "slide"
    }
   },
   "source": [
    "Now in order to run the Cython code, we first have to **Cythonize it**. This involves two steps: translating our Python-like code into C code, and compiling the C code into an executable. If you want to recompile, first **delete all \\*.so, \\*.pyd, \\*.c, and \\*.html files from the directory**."
   ]
  },
  {
   "cell_type": "code",
   "execution_count": 8,
   "metadata": {},
   "outputs": [
    {
     "name": "stderr",
     "output_type": "stream",
     "text": [
      "rm: cannot remove '*.so': No such file or directory\n",
      "rm: cannot remove '*.pyd': No such file or directory\n",
      "rm: cannot remove '*.c': No such file or directory\n",
      "rm: cannot remove '*.html': No such file or directory\n"
     ]
    }
   ],
   "source": [
    "! rm *.so *.pyd *.c *.html"
   ]
  },
  {
   "cell_type": "markdown",
   "metadata": {
    "slideshow": {
     "slide_type": "slide"
    }
   },
   "source": [
    "To Cythonize, we use a setup file:"
   ]
  },
  {
   "cell_type": "code",
   "execution_count": 9,
   "metadata": {
    "slideshow": {
     "slide_type": "fragment"
    }
   },
   "outputs": [
    {
     "name": "stdout",
     "output_type": "stream",
     "text": [
      "from setuptools import setup\n",
      "from Cython.Build import cythonize\n",
      "\n",
      "setup(ext_modules = cythonize(['fib_py_cy.py', 'fib_cy.pyx', 'fib_py_cy_double.py', 'fib_cy_double.pyx'],\n",
      "                                annotate=True, language_level=3))\n"
     ]
    }
   ],
   "source": [
    "! cat setup_fibs.py"
   ]
  },
  {
   "cell_type": "markdown",
   "metadata": {
    "slideshow": {
     "slide_type": "fragment"
    }
   },
   "source": [
    "We can run the setup in Python using the ``run_setups.sh`` file. You should give either ``python`` or ``python3`` as the command line argument, depending on which is the alias for Python 3 in your shell."
   ]
  },
  {
   "cell_type": "code",
   "execution_count": 10,
   "metadata": {
    "slideshow": {
     "slide_type": "fragment"
    }
   },
   "outputs": [
    {
     "name": "stdout",
     "output_type": "stream",
     "text": [
      "## Shell script for running the setup function. As command line arg, give either python or python3, whichever is the command for python3 in your system\n",
      "\n",
      "$1 setup_fibs.py build_ext --inplace\n"
     ]
    }
   ],
   "source": [
    "! cat run_setups.sh"
   ]
  },
  {
   "cell_type": "code",
   "execution_count": 11,
   "metadata": {
    "slideshow": {
     "slide_type": "fragment"
    }
   },
   "outputs": [
    {
     "name": "stdout",
     "output_type": "stream",
     "text": [
      "Compiling fib_py_cy.py because it changed.\n",
      "Compiling fib_cy.pyx because it changed.\n",
      "Compiling fib_py_cy_double.py because it changed.\n",
      "Compiling fib_cy_double.pyx because it changed.\n",
      "[1/4] Cythonizing fib_cy.pyx\n",
      "[2/4] Cythonizing fib_cy_double.pyx\n",
      "[3/4] Cythonizing fib_py_cy.py\n",
      "[4/4] Cythonizing fib_py_cy_double.py\n",
      "running build_ext\n",
      "building 'fib_py_cy' extension\n",
      "C:\\Program Files (x86)\\Microsoft Visual Studio\\2019\\Community\\VC\\Tools\\MSVC\\14.27.29110\\bin\\HostX86\\x64\\cl.exe /c /nologo /Ox /W3 /GL /DNDEBUG /MD -IC:\\Users\\Andrew\\anaconda3\\envs\\.venv_cython\\include -IC:\\Users\\Andrew\\anaconda3\\envs\\.venv_cython\\include \"-IC:\\Program Files (x86)\\Microsoft Visual Studio\\2019\\Community\\VC\\Tools\\MSVC\\14.27.29110\\ATLMFC\\include\" \"-IC:\\Program Files (x86)\\Microsoft Visual Studio\\2019\\Community\\VC\\Tools\\MSVC\\14.27.29110\\include\" \"-IC:\\Program Files (x86)\\Windows Kits\\10\\include\\10.0.19041.0\\ucrt\" \"-IC:\\Program Files (x86)\\Windows Kits\\10\\include\\10.0.19041.0\\shared\" \"-IC:\\Program Files (x86)\\Windows Kits\\10\\include\\10.0.19041.0\\um\" \"-IC:\\Program Files (x86)\\Windows Kits\\10\\include\\10.0.19041.0\\winrt\" \"-IC:\\Program Files (x86)\\Windows Kits\\10\\include\\10.0.19041.0\\cppwinrt\" -IC:\\GTK\\INCLUDE -IC:\\GTK\\INCLUDE\\GTK-2.0 -IC:\\GTK\\INCLUDE\\GLIB-2.0 -IC:\\GTK\\INCLUDE\\PANGO-1.0 -IC:\\GTK\\INCLUDE\\CAIRO -IC:\\GTK\\INCLUDE\\ATK-1.0 -IC:\\GTK\\INCLUDE\\GTKGLEXT-1.0 -IC:\\GTK\\LIB\\GTK-2.0\\INCLUDE -IC:\\GTK\\LIB\\GLIB-2.0\\INCLUDE -IC:\\GTK\\LIB\\GTKGLEXT-1.0\\INCLUDE -IC:\\GTK\\INCLUDE\\LIBGLADE-2.0 -IC:\\GTK\\INCLUDE\\LIBXML2 /Tcfib_py_cy.c /Fobuild\\temp.win-amd64-3.7\\Release\\fib_py_cy.obj\n",
      "fib_py_cy.c\n",
      "C:\\Program Files (x86)\\Microsoft Visual Studio\\2019\\Community\\VC\\Tools\\MSVC\\14.27.29110\\bin\\HostX86\\x64\\link.exe /nologo /INCREMENTAL:NO /LTCG /DLL /MANIFEST:EMBED,ID=2 /MANIFESTUAC:NO /LIBPATH:C:\\Users\\Andrew\\anaconda3\\envs\\.venv_cython\\libs /LIBPATH:C:\\Users\\Andrew\\anaconda3\\envs\\.venv_cython\\PCbuild\\amd64 \"/LIBPATH:C:\\Program Files (x86)\\Microsoft Visual Studio\\2019\\Community\\VC\\Tools\\MSVC\\14.27.29110\\ATLMFC\\lib\\x64\" \"/LIBPATH:C:\\Program Files (x86)\\Microsoft Visual Studio\\2019\\Community\\VC\\Tools\\MSVC\\14.27.29110\\lib\\x64\" \"/LIBPATH:C:\\Program Files (x86)\\Windows Kits\\10\\lib\\10.0.19041.0\\ucrt\\x64\" \"/LIBPATH:C:\\Program Files (x86)\\Windows Kits\\10\\lib\\10.0.19041.0\\um\\x64\" /LIBPATH:C:\\GTK\\LIB /EXPORT:PyInit_fib_py_cy build\\temp.win-amd64-3.7\\Release\\fib_py_cy.obj /OUT:build\\lib.win-amd64-3.7\\fib_py_cy.cp37-win_amd64.pyd /IMPLIB:build\\temp.win-amd64-3.7\\Release\\fib_py_cy.cp37-win_amd64.lib\n",
      "   Creating library build\\temp.win-amd64-3.7\\Release\\fib_py_cy.cp37-win_amd64.lib and object build\\temp.win-amd64-3.7\\Release\\fib_py_cy.cp37-win_amd64.exp\n",
      "Generating code\n",
      "Finished generating code\n",
      "building 'fib_cy' extension\n",
      "C:\\Program Files (x86)\\Microsoft Visual Studio\\2019\\Community\\VC\\Tools\\MSVC\\14.27.29110\\bin\\HostX86\\x64\\cl.exe /c /nologo /Ox /W3 /GL /DNDEBUG /MD -IC:\\Users\\Andrew\\anaconda3\\envs\\.venv_cython\\include -IC:\\Users\\Andrew\\anaconda3\\envs\\.venv_cython\\include \"-IC:\\Program Files (x86)\\Microsoft Visual Studio\\2019\\Community\\VC\\Tools\\MSVC\\14.27.29110\\ATLMFC\\include\" \"-IC:\\Program Files (x86)\\Microsoft Visual Studio\\2019\\Community\\VC\\Tools\\MSVC\\14.27.29110\\include\" \"-IC:\\Program Files (x86)\\Windows Kits\\10\\include\\10.0.19041.0\\ucrt\" \"-IC:\\Program Files (x86)\\Windows Kits\\10\\include\\10.0.19041.0\\shared\" \"-IC:\\Program Files (x86)\\Windows Kits\\10\\include\\10.0.19041.0\\um\" \"-IC:\\Program Files (x86)\\Windows Kits\\10\\include\\10.0.19041.0\\winrt\" \"-IC:\\Program Files (x86)\\Windows Kits\\10\\include\\10.0.19041.0\\cppwinrt\" -IC:\\GTK\\INCLUDE -IC:\\GTK\\INCLUDE\\GTK-2.0 -IC:\\GTK\\INCLUDE\\GLIB-2.0 -IC:\\GTK\\INCLUDE\\PANGO-1.0 -IC:\\GTK\\INCLUDE\\CAIRO -IC:\\GTK\\INCLUDE\\ATK-1.0 -IC:\\GTK\\INCLUDE\\GTKGLEXT-1.0 -IC:\\GTK\\LIB\\GTK-2.0\\INCLUDE -IC:\\GTK\\LIB\\GLIB-2.0\\INCLUDE -IC:\\GTK\\LIB\\GTKGLEXT-1.0\\INCLUDE -IC:\\GTK\\INCLUDE\\LIBGLADE-2.0 -IC:\\GTK\\INCLUDE\\LIBXML2 /Tcfib_cy.c /Fobuild\\temp.win-amd64-3.7\\Release\\fib_cy.obj\n",
      "fib_cy.c\n",
      "C:\\Program Files (x86)\\Microsoft Visual Studio\\2019\\Community\\VC\\Tools\\MSVC\\14.27.29110\\bin\\HostX86\\x64\\link.exe /nologo /INCREMENTAL:NO /LTCG /DLL /MANIFEST:EMBED,ID=2 /MANIFESTUAC:NO /LIBPATH:C:\\Users\\Andrew\\anaconda3\\envs\\.venv_cython\\libs /LIBPATH:C:\\Users\\Andrew\\anaconda3\\envs\\.venv_cython\\PCbuild\\amd64 \"/LIBPATH:C:\\Program Files (x86)\\Microsoft Visual Studio\\2019\\Community\\VC\\Tools\\MSVC\\14.27.29110\\ATLMFC\\lib\\x64\" \"/LIBPATH:C:\\Program Files (x86)\\Microsoft Visual Studio\\2019\\Community\\VC\\Tools\\MSVC\\14.27.29110\\lib\\x64\" \"/LIBPATH:C:\\Program Files (x86)\\Windows Kits\\10\\lib\\10.0.19041.0\\ucrt\\x64\" \"/LIBPATH:C:\\Program Files (x86)\\Windows Kits\\10\\lib\\10.0.19041.0\\um\\x64\" /LIBPATH:C:\\GTK\\LIB /EXPORT:PyInit_fib_cy build\\temp.win-amd64-3.7\\Release\\fib_cy.obj /OUT:build\\lib.win-amd64-3.7\\fib_cy.cp37-win_amd64.pyd /IMPLIB:build\\temp.win-amd64-3.7\\Release\\fib_cy.cp37-win_amd64.lib\n",
      "   Creating library build\\temp.win-amd64-3.7\\Release\\fib_cy.cp37-win_amd64.lib and object build\\temp.win-amd64-3.7\\Release\\fib_cy.cp37-win_amd64.exp\n",
      "Generating code\n",
      "Finished generating code\n",
      "building 'fib_py_cy_double' extension\n",
      "C:\\Program Files (x86)\\Microsoft Visual Studio\\2019\\Community\\VC\\Tools\\MSVC\\14.27.29110\\bin\\HostX86\\x64\\cl.exe /c /nologo /Ox /W3 /GL /DNDEBUG /MD -IC:\\Users\\Andrew\\anaconda3\\envs\\.venv_cython\\include -IC:\\Users\\Andrew\\anaconda3\\envs\\.venv_cython\\include \"-IC:\\Program Files (x86)\\Microsoft Visual Studio\\2019\\Community\\VC\\Tools\\MSVC\\14.27.29110\\ATLMFC\\include\" \"-IC:\\Program Files (x86)\\Microsoft Visual Studio\\2019\\Community\\VC\\Tools\\MSVC\\14.27.29110\\include\" \"-IC:\\Program Files (x86)\\Windows Kits\\10\\include\\10.0.19041.0\\ucrt\" \"-IC:\\Program Files (x86)\\Windows Kits\\10\\include\\10.0.19041.0\\shared\" \"-IC:\\Program Files (x86)\\Windows Kits\\10\\include\\10.0.19041.0\\um\" \"-IC:\\Program Files (x86)\\Windows Kits\\10\\include\\10.0.19041.0\\winrt\" \"-IC:\\Program Files (x86)\\Windows Kits\\10\\include\\10.0.19041.0\\cppwinrt\" -IC:\\GTK\\INCLUDE -IC:\\GTK\\INCLUDE\\GTK-2.0 -IC:\\GTK\\INCLUDE\\GLIB-2.0 -IC:\\GTK\\INCLUDE\\PANGO-1.0 -IC:\\GTK\\INCLUDE\\CAIRO -IC:\\GTK\\INCLUDE\\ATK-1.0 -IC:\\GTK\\INCLUDE\\GTKGLEXT-1.0 -IC:\\GTK\\LIB\\GTK-2.0\\INCLUDE -IC:\\GTK\\LIB\\GLIB-2.0\\INCLUDE -IC:\\GTK\\LIB\\GTKGLEXT-1.0\\INCLUDE -IC:\\GTK\\INCLUDE\\LIBGLADE-2.0 -IC:\\GTK\\INCLUDE\\LIBXML2 /Tcfib_py_cy_double.c /Fobuild\\temp.win-amd64-3.7\\Release\\fib_py_cy_double.obj\n",
      "fib_py_cy_double.c\n",
      "C:\\Program Files (x86)\\Microsoft Visual Studio\\2019\\Community\\VC\\Tools\\MSVC\\14.27.29110\\bin\\HostX86\\x64\\link.exe /nologo /INCREMENTAL:NO /LTCG /DLL /MANIFEST:EMBED,ID=2 /MANIFESTUAC:NO /LIBPATH:C:\\Users\\Andrew\\anaconda3\\envs\\.venv_cython\\libs /LIBPATH:C:\\Users\\Andrew\\anaconda3\\envs\\.venv_cython\\PCbuild\\amd64 \"/LIBPATH:C:\\Program Files (x86)\\Microsoft Visual Studio\\2019\\Community\\VC\\Tools\\MSVC\\14.27.29110\\ATLMFC\\lib\\x64\" \"/LIBPATH:C:\\Program Files (x86)\\Microsoft Visual Studio\\2019\\Community\\VC\\Tools\\MSVC\\14.27.29110\\lib\\x64\" \"/LIBPATH:C:\\Program Files (x86)\\Windows Kits\\10\\lib\\10.0.19041.0\\ucrt\\x64\" \"/LIBPATH:C:\\Program Files (x86)\\Windows Kits\\10\\lib\\10.0.19041.0\\um\\x64\" /LIBPATH:C:\\GTK\\LIB /EXPORT:PyInit_fib_py_cy_double build\\temp.win-amd64-3.7\\Release\\fib_py_cy_double.obj /OUT:build\\lib.win-amd64-3.7\\fib_py_cy_double.cp37-win_amd64.pyd /IMPLIB:build\\temp.win-amd64-3.7\\Release\\fib_py_cy_double.cp37-win_amd64.lib\n",
      "   Creating library build\\temp.win-amd64-3.7\\Release\\fib_py_cy_double.cp37-win_amd64.lib and object build\\temp.win-amd64-3.7\\Release\\fib_py_cy_double.cp37-win_amd64.exp\n",
      "Generating code\n",
      "Finished generating code\n",
      "building 'fib_cy_double' extension\n",
      "C:\\Program Files (x86)\\Microsoft Visual Studio\\2019\\Community\\VC\\Tools\\MSVC\\14.27.29110\\bin\\HostX86\\x64\\cl.exe /c /nologo /Ox /W3 /GL /DNDEBUG /MD -IC:\\Users\\Andrew\\anaconda3\\envs\\.venv_cython\\include -IC:\\Users\\Andrew\\anaconda3\\envs\\.venv_cython\\include \"-IC:\\Program Files (x86)\\Microsoft Visual Studio\\2019\\Community\\VC\\Tools\\MSVC\\14.27.29110\\ATLMFC\\include\" \"-IC:\\Program Files (x86)\\Microsoft Visual Studio\\2019\\Community\\VC\\Tools\\MSVC\\14.27.29110\\include\" \"-IC:\\Program Files (x86)\\Windows Kits\\10\\include\\10.0.19041.0\\ucrt\" \"-IC:\\Program Files (x86)\\Windows Kits\\10\\include\\10.0.19041.0\\shared\" \"-IC:\\Program Files (x86)\\Windows Kits\\10\\include\\10.0.19041.0\\um\" \"-IC:\\Program Files (x86)\\Windows Kits\\10\\include\\10.0.19041.0\\winrt\" \"-IC:\\Program Files (x86)\\Windows Kits\\10\\include\\10.0.19041.0\\cppwinrt\" -IC:\\GTK\\INCLUDE -IC:\\GTK\\INCLUDE\\GTK-2.0 -IC:\\GTK\\INCLUDE\\GLIB-2.0 -IC:\\GTK\\INCLUDE\\PANGO-1.0 -IC:\\GTK\\INCLUDE\\CAIRO -IC:\\GTK\\INCLUDE\\ATK-1.0 -IC:\\GTK\\INCLUDE\\GTKGLEXT-1.0 -IC:\\GTK\\LIB\\GTK-2.0\\INCLUDE -IC:\\GTK\\LIB\\GLIB-2.0\\INCLUDE -IC:\\GTK\\LIB\\GTKGLEXT-1.0\\INCLUDE -IC:\\GTK\\INCLUDE\\LIBGLADE-2.0 -IC:\\GTK\\INCLUDE\\LIBXML2 /Tcfib_cy_double.c /Fobuild\\temp.win-amd64-3.7\\Release\\fib_cy_double.obj\n",
      "fib_cy_double.c\n",
      "C:\\Program Files (x86)\\Microsoft Visual Studio\\2019\\Community\\VC\\Tools\\MSVC\\14.27.29110\\bin\\HostX86\\x64\\link.exe /nologo /INCREMENTAL:NO /LTCG /DLL /MANIFEST:EMBED,ID=2 /MANIFESTUAC:NO /LIBPATH:C:\\Users\\Andrew\\anaconda3\\envs\\.venv_cython\\libs /LIBPATH:C:\\Users\\Andrew\\anaconda3\\envs\\.venv_cython\\PCbuild\\amd64 \"/LIBPATH:C:\\Program Files (x86)\\Microsoft Visual Studio\\2019\\Community\\VC\\Tools\\MSVC\\14.27.29110\\ATLMFC\\lib\\x64\" \"/LIBPATH:C:\\Program Files (x86)\\Microsoft Visual Studio\\2019\\Community\\VC\\Tools\\MSVC\\14.27.29110\\lib\\x64\" \"/LIBPATH:C:\\Program Files (x86)\\Windows Kits\\10\\lib\\10.0.19041.0\\ucrt\\x64\" \"/LIBPATH:C:\\Program Files (x86)\\Windows Kits\\10\\lib\\10.0.19041.0\\um\\x64\" /LIBPATH:C:\\GTK\\LIB /EXPORT:PyInit_fib_cy_double build\\temp.win-amd64-3.7\\Release\\fib_cy_double.obj /OUT:build\\lib.win-amd64-3.7\\fib_cy_double.cp37-win_amd64.pyd /IMPLIB:build\\temp.win-amd64-3.7\\Release\\fib_cy_double.cp37-win_amd64.lib\n",
      "   Creating library build\\temp.win-amd64-3.7\\Release\\fib_cy_double.cp37-win_amd64.lib and object build\\temp.win-amd64-3.7\\Release\\fib_cy_double.cp37-win_amd64.exp\n",
      "Generating code\n",
      "Finished generating code\n",
      "copying build\\lib.win-amd64-3.7\\fib_py_cy.cp37-win_amd64.pyd -> \n",
      "copying build\\lib.win-amd64-3.7\\fib_cy.cp37-win_amd64.pyd -> \n",
      "copying build\\lib.win-amd64-3.7\\fib_py_cy_double.cp37-win_amd64.pyd -> \n",
      "copying build\\lib.win-amd64-3.7\\fib_cy_double.cp37-win_amd64.pyd -> \n"
     ]
    }
   ],
   "source": [
    "! sh run_setups.sh python"
   ]
  },
  {
   "cell_type": "markdown",
   "metadata": {
    "slideshow": {
     "slide_type": "slide"
    }
   },
   "source": [
    "Assuming this worked, you will now have the following types of files:"
   ]
  },
  {
   "cell_type": "markdown",
   "metadata": {
    "slideshow": {
     "slide_type": "fragment"
    }
   },
   "source": [
    "1. \\*.c files: The C code created by Cython. This will be very long and very hard to read due to all the work Cython is doing behind the scenes to make our module interfaceable with the CPython interpreter at run time."
   ]
  },
  {
   "cell_type": "markdown",
   "metadata": {
    "slideshow": {
     "slide_type": "fragment"
    }
   },
   "source": [
    "2. \\*.so or \\*.pyd files: Compiled executables from the C code. File ending depends on whether you are using a Linux/OSX (\\*.so) or Windows (\\*.pyd)."
   ]
  },
  {
   "cell_type": "markdown",
   "metadata": {
    "slideshow": {
     "slide_type": "fragment"
    }
   },
   "source": [
    "3. \\*.html files: Annotated versions of our Cython code. Lines will be highlighted yellow based on the extent to which they have to interface with CPython. Lines with no highlighting are executed entirely in C with no interfacing overhead. We want as little yellow as possible."
   ]
  },
  {
   "cell_type": "markdown",
   "metadata": {
    "slideshow": {
     "slide_type": "fragment"
    }
   },
   "source": [
    "Try comparing ``fib_py_cy.html`` to ``fib_cy.html`` to see the impact of adding the type information."
   ]
  },
  {
   "cell_type": "markdown",
   "metadata": {
    "slideshow": {
     "slide_type": "slide"
    }
   },
   "source": [
    "Now let's try running our 6 versions, using the ``time_versions.py`` script:"
   ]
  },
  {
   "cell_type": "code",
   "execution_count": 12,
   "metadata": {
    "slideshow": {
     "slide_type": "fragment"
    }
   },
   "outputs": [
    {
     "name": "stdout",
     "output_type": "stream",
     "text": [
      "from fib_py import fib_py\n",
      "from fib_py_cy import fib_py_cy\n",
      "from fib_cy import fib_cy\n",
      "from fib_py_double import fib_py_double\n",
      "from fib_py_cy_double import fib_py_cy_double\n",
      "from fib_cy_double import fib_cy_double\n",
      "import timeit\n",
      "import sys\n",
      "\n",
      "# pass in Fib number to calculate\n",
      "n = int(sys.argv[1])\n",
      "\n",
      "# time each version\n",
      "t1 = min(timeit.repeat(f\"fib_py({n})\", number=100000, repeat = 10, setup=\"from fib_py import fib_py; gc.enable()\"))\n",
      "print(f'Pure python: answer = {fib_py(n)}, time = {t1}, speedup = 1.0')\n",
      "\n",
      "t = min(timeit.repeat(f\"fib_py_cy({n})\", number=100000, repeat = 10, setup=\"from fib_py_cy import fib_py_cy; gc.enable()\"))\n",
      "print(f'Cythonized Python: answer = {fib_py_cy(n)}, time = {t}, speedup = {t1 / t}')\n",
      "\n",
      "t = min(timeit.repeat(f\"fib_cy({n})\", number=100000, repeat = 10, setup=\"from fib_cy import fib_cy; gc.enable()\"))\n",
      "print(f'Typed Cython: answer = {fib_cy(n)}, time = {t}, speedup = {t1 / t}')\n",
      "\n",
      "t = min(timeit.repeat(f\"fib_py_double({n})\", number=100000, repeat = 10, setup=\"from fib_py_double import fib_py_double; gc.enable()\"))\n",
      "print(f'Pure Python (double): answer = {fib_py_double(n)}, time = {t}, speedup = {t1 / t}')\n",
      "\n",
      "t = min(timeit.repeat(f\"fib_py_cy_double({n})\", number=100000, repeat = 10, setup=\"from fib_py_cy_double import fib_py_cy_double; gc.enable()\"))\n",
      "print(f'Cythonized Python (double): answer = {fib_py_cy_double(n)}, time = {t}, speedup = {t1 / t}')\n",
      "\n",
      "t = min(timeit.repeat(f\"fib_cy_double({n})\", number=100000, repeat = 10, setup=\"from fib_cy_double import fib_cy_double; gc.enable()\"))\n",
      "print(f'Typed Cython (double): answer = {fib_cy_double(n)}, time = {t}, speedup = {t1 / t}')\n"
     ]
    }
   ],
   "source": [
    "! cat time_versions.py"
   ]
  },
  {
   "cell_type": "markdown",
   "metadata": {
    "slideshow": {
     "slide_type": "fragment"
    }
   },
   "source": [
    "We can run this to calculate the 40th Fibonacci number as follows:"
   ]
  },
  {
   "cell_type": "code",
   "execution_count": 13,
   "metadata": {
    "slideshow": {
     "slide_type": "fragment"
    }
   },
   "outputs": [
    {
     "name": "stdout",
     "output_type": "stream",
     "text": [
      "Pure python: answer = 63245986, time = 0.44908590000000004, speedup = 1.0\n",
      "Cythonized Python: answer = 63245986, time = 0.15236759999999983, speedup = 2.947384483315354\n",
      "Typed Cython: answer = 63245986, time = 0.00903659999999995, speedup = 49.69633490472108\n",
      "Pure Python (double): answer = 63245986.0, time = 0.2763024999999999, speedup = 1.6253414283258394\n",
      "Cythonized Python (double): answer = 63245986.0, time = 0.0491463999999997, speedup = 9.13771710644122\n",
      "Typed Cython (double): answer = 63245986.0, time = 0.008176599999998757, speedup = 54.92330553042442\n"
     ]
    }
   ],
   "source": [
    "! python time_versions.py 40"
   ]
  },
  {
   "cell_type": "markdown",
   "metadata": {
    "slideshow": {
     "slide_type": "fragment"
    }
   },
   "source": [
    "For the integer implementation, **Cython gives us a \\~2x speedup without adding any type info, and \\~40x speedup for the typed version! The double implementation gives a larger speedup (\\~4x) for the untyped version and a smaller speedup (\\~20x).** These are very large gains for very little work. "
   ]
  },
  {
   "cell_type": "markdown",
   "metadata": {
    "slideshow": {
     "slide_type": "fragment"
    }
   },
   "source": [
    "If we try to calculate a larger Fibonacci number, we see why the integer/double distinction is important:"
   ]
  },
  {
   "cell_type": "code",
   "execution_count": 14,
   "metadata": {
    "slideshow": {
     "slide_type": "fragment"
    }
   },
   "outputs": [
    {
     "name": "stdout",
     "output_type": "stream",
     "text": [
      "Pure python: answer = 7778742049, time = 0.3792123000000003, speedup = 1.0\n",
      "Cythonized Python: answer = 7778742049, time = 0.17213530000000077, speedup = 2.2029897412093775\n",
      "Typed Cython: answer = -811192543, time = 0.009087100000000348, speedup = 41.730838221213126\n",
      "Pure Python (double): answer = 7778742049.0, time = 0.3371652999999988, speedup = 1.124707376470834\n",
      "Cythonized Python (double): answer = 7778742049.0, time = 0.05423599999999951, speedup = 6.991892838704988\n",
      "Typed Cython (double): answer = 7778742049.0, time = 0.009982599999998953, speedup = 37.98732795063811\n"
     ]
    }
   ],
   "source": [
    "! python time_versions.py 50"
   ]
  },
  {
   "cell_type": "markdown",
   "metadata": {
    "slideshow": {
     "slide_type": "fragment"
    }
   },
   "source": [
    "**Python integers can be unlimited size, while C integers can overflow if they get too big**. Our typed Cython integer version is wrong here because of overflow issues. This shows that the speed advantages of Cython are not free - you do lose some of the flexibility & safety of Python. We could use ``long`` instead of ``int`` to get a larger overflow threshold, but the fundamental problem would remain. We may want to introduce some manual checks into our function to make sure we don't enter an argument that is large enough to cause overflow."
   ]
  },
  {
   "cell_type": "markdown",
   "metadata": {
    "slideshow": {
     "slide_type": "slide"
    }
   },
   "source": [
    "### Reservoir simulation example\n",
    "The Fibonacci example is a prime candidate for Cythonization: a simple function with a tight numerical loop. Once typed, this requires virtually no interaction with the CPython interpreter. "
   ]
  },
  {
   "cell_type": "markdown",
   "metadata": {
    "slideshow": {
     "slide_type": "slide"
    }
   },
   "source": [
    "However, many research models are more complex than this, with fewer sequential computations and more data storage & retrieval. This is especially true of object-oriented models. Such models require a bit more work to integrate with Cython, and the potential gains are lower. However, it can definitely still be worthwhile."
   ]
  },
  {
   "cell_type": "markdown",
   "metadata": {
    "slideshow": {
     "slide_type": "slide"
    }
   },
   "source": [
    "The second example is a simple reservoir operations model, which has an object-oriented structure that will be familiar to most water resources modelers. We have a ``Model`` class, a ``Reservoir`` class, and a ``Demand`` class. "
   ]
  },
  {
   "cell_type": "code",
   "execution_count": 15,
   "metadata": {
    "slideshow": {
     "slide_type": "fragment"
    }
   },
   "outputs": [
    {
     "name": "stdout",
     "output_type": "stream",
     "text": [
      "C:\\Users\\Andrew\\cython_tutorial\\reservoir_sim\\py_fast\n",
      "Demand.py\n",
      "Model.py\n",
      "Reservoir.py\n",
      "__pycache__\n",
      "main_py.py\n"
     ]
    }
   ],
   "source": [
    "%cd ../reservoir_sim/py_fast\n",
    "! ls"
   ]
  },
  {
   "cell_type": "markdown",
   "metadata": {
    "slideshow": {
     "slide_type": "fragment"
    }
   },
   "source": [
    "The Model class will set up and run a simulation model with two Reservoir objects, and each Reservoir object will have a Demand object. Every day, we will generate random inflows and demands (based on a seasonal trend plus noise), and make water deliveries and reservoir releases based on seasonal minimum flow requirements. "
   ]
  },
  {
   "cell_type": "code",
   "execution_count": 16,
   "metadata": {
    "slideshow": {
     "slide_type": "fragment"
    }
   },
   "outputs": [
    {
     "name": "stdout",
     "output_type": "stream",
     "text": [
      "### Demand class - pure Python\n",
      "from random import gauss\n",
      "from math import pi, sin\n",
      "\n",
      "class Demand():\n",
      "  def __init__(self, name, demand_params):\n",
      "    self.name = name\n",
      "    # amplitude, phase, shift, & noise std for sine wave of demands\n",
      "    self.demand_amp, self.demand_phase, self.demand_shift, self.demand_noise = demand_params\n",
      "    # save 2pi/365 to save conversion time\n",
      "    self.days_to_radians = 2. * pi / 365.\n",
      "\n",
      "  ### demand function\n",
      "  def demand_t(self, t):\n",
      "    noise = gauss(0., self.demand_noise)\n",
      "    demand_t = self.demand_amp * sin((t - self.demand_phase)  * self.days_to_radians) + self.demand_shift + noise\n",
      "    return demand_t\n",
      "\n"
     ]
    }
   ],
   "source": [
    "! cat Demand.py"
   ]
  },
  {
   "cell_type": "code",
   "execution_count": 17,
   "metadata": {
    "slideshow": {
     "slide_type": "fragment"
    }
   },
   "outputs": [
    {
     "name": "stdout",
     "output_type": "stream",
     "text": [
      "### Reservoir class - pure Python\n",
      "from random import gauss\n",
      "from math import pi, sin\n",
      "from Demand import Demand\n",
      "\n",
      "class Reservoir():\n",
      "  def __init__(self, name, inflow_params, min_flow_params, demand_params, storage_params):\n",
      "    self.name = name\n",
      "    # amplitude, phase, shift, & noise std for sine wave of inflows\n",
      "    self.inflow_amp, self.inflow_phase, self.inflow_shift, self.inflow_noise = inflow_params\n",
      "    # amplitude, phase, and shift for sine wave of minimum flows\n",
      "    self.min_flow_amp, self.min_flow_phase, self.min_flow_shift = min_flow_params\n",
      "    # reservoir capacity and initial storage\n",
      "    self.capacity, self.storage = storage_params\n",
      "    # set up demand object\n",
      "    self.demand = Demand(name, demand_params)\n",
      "    # save 2pi/365 to save conversion time\n",
      "    self.days_to_radians = 2. * pi / 365.\n",
      "\n",
      "  ### inflow function\n",
      "  def inflow_t(self, t):\n",
      "    noise = gauss(0., self.inflow_noise)\n",
      "    inflow_t = self.inflow_amp * sin((t - self.inflow_phase)  * self.days_to_radians) + self.inflow_shift + noise\n",
      "    return inflow_t\n",
      "\n",
      "  ### min flow function\n",
      "  def min_flow_t(self, t):\n",
      "    min_flow_t = self.min_flow_amp * sin((t - self.min_flow_phase)  * self.days_to_radians) + self.min_flow_shift\n",
      "    return min_flow_t\n",
      "\n",
      "  ### step reservoir another day\n",
      "  def step(self, t, upstream_release):\n",
      "    inflow = self.inflow_t(t)\n",
      "    min_flow = self.min_flow_t(t)\n",
      "    demand = self.demand.demand_t(t)\n",
      "    \n",
      "    # first assume release & delivery meet min_flow and demand exactly\n",
      "    release = min_flow\n",
      "    delivery = demand\n",
      "    self.storage += inflow + upstream_release - release - demand\n",
      "\n",
      "    # check if storage overflow\n",
      "    if self.storage > self.capacity:\n",
      "      release += self.storage - self.capacity\n",
      "      self.storage = self.capacity\n",
      "\n",
      "    # check if storage went negative. if so, curtail demand first, then env flows\n",
      "    elif self.storage < 0:\n",
      "      if delivery > (-self.storage):\n",
      "        delivery += self.storage\n",
      "        self.storage = 0.\n",
      "      else:\n",
      "        self.storage += delivery\n",
      "        delivery = 0\n",
      "        if release > (-self.storage):\n",
      "          release += self.storage\n",
      "          self.storage = 0\n",
      "        else:\n",
      "          print('This should not be happening')\n",
      "    \n",
      "    return (inflow, upstream_release, min_flow, demand, release, delivery, self.storage)\n",
      "        \n",
      "\n",
      "\n",
      "    \n"
     ]
    }
   ],
   "source": [
    "! cat Reservoir.py"
   ]
  },
  {
   "cell_type": "code",
   "execution_count": 18,
   "metadata": {
    "slideshow": {
     "slide_type": "fragment"
    }
   },
   "outputs": [
    {
     "name": "stdout",
     "output_type": "stream",
     "text": [
      "### Model class for running simulation\n",
      "import matplotlib.pyplot as plt\n",
      "import random\n",
      "import numpy as np\n",
      "from Reservoir import Reservoir\n",
      "\n",
      "class Model():\n",
      "  def __init__(self, years, plot, seed):\n",
      "    # length of simulation (no leap years)\n",
      "    self.years = years\n",
      "    self.days = 365 * self.years\n",
      "    # boolean for whether to plot\n",
      "    self.plot = plot\n",
      "    # random seed\n",
      "    random.seed(seed)\n",
      "\n",
      "    ### set up upper reservoir\n",
      "    # inflow params in terms of sinusoid, (amplitude, phase, shift, noise). units = AF/day\n",
      "    inflow_params = (300., 0., 500., 20.)\n",
      "    # min flow params in terms of sinusoid, (amplitude, phase, shift). units = AF/day\n",
      "    min_flow_params = (200., 122., 300.)\n",
      "    # demand params in terms of sinusoid, (amplitude, phase, shift, noise). units = AF/day\n",
      "    demand_params = (300., 163., 600., 30.)\n",
      "    # storage params (capacity, starting storage). units = AF\n",
      "    storage_params = (500000., 250000.)\n",
      "    # initialize upper reservoir\n",
      "    self.reservoir_upper = Reservoir('upper', inflow_params, min_flow_params, demand_params, storage_params)\n",
      "\n",
      "    ### set up lower reservoir\n",
      "    # inflow params in terms of sinusoid, (amplitude, phase, shift, noise). units = AF/day\n",
      "    inflow_params = (200., 30., 600., 100.)\n",
      "    # min flow params in terms of sinusoid, (amplitude, phase, shift). units = AF/day\n",
      "    min_flow_params = (100., 91., 400.)\n",
      "    # demand params in terms of sinusoid, (amplitude, phase, shift, noise). units = AF/day\n",
      "    demand_params = (100., 152., 300., 10.)\n",
      "    # storage params (capacity, starting storage). units = AF\n",
      "    storage_params = (20000., 15000.)\n",
      "    # initialize lower reservoir\n",
      "    self.reservoir_lower = Reservoir('lower', inflow_params, min_flow_params, demand_params, storage_params)\n",
      "\n",
      "    ### set up data storage\n",
      "    self.reservoir_list = [self.reservoir_upper, self.reservoir_lower]\n",
      "    self.output = {}\n",
      "    for reservoir in self.reservoir_list:\n",
      "      self.output[reservoir.name] = {}\n",
      "      self.output[reservoir.name]['inflow'] = []\n",
      "      self.output[reservoir.name]['upstream_release'] = []\n",
      "      self.output[reservoir.name]['min_flow'] = []\n",
      "      self.output[reservoir.name]['demand'] = []\n",
      "      self.output[reservoir.name]['release'] = []\n",
      "      self.output[reservoir.name]['delivery'] = []\n",
      "      self.output[reservoir.name]['storage'] = [reservoir.storage]\n",
      "\n",
      "  def run(self):\n",
      "    for t in range(self.days):\n",
      "      # step upper\n",
      "      (inflow, upstream_release, min_flow, demand, release, delivery, storage) = self.reservoir_upper.step(t, 0.)\n",
      "      self.output['upper']['inflow'].append(inflow)\n",
      "      self.output['upper']['upstream_release'].append(upstream_release)\n",
      "      self.output['upper']['min_flow'].append(min_flow)\n",
      "      self.output['upper']['demand'].append(demand)\n",
      "      self.output['upper']['release'].append(release)\n",
      "      self.output['upper']['delivery'].append(delivery)\n",
      "      self.output['upper']['storage'].append(storage)\n",
      "\n",
      "      (inflow, upstream_release, min_flow, demand, release, delivery, storage) = self.reservoir_lower.step(t, release)\n",
      "      self.output['lower']['inflow'].append(inflow)\n",
      "      self.output['lower']['upstream_release'].append(upstream_release)\n",
      "      self.output['lower']['min_flow'].append(min_flow)\n",
      "      self.output['lower']['demand'].append(demand)\n",
      "      self.output['lower']['release'].append(release)\n",
      "      self.output['lower']['delivery'].append(delivery)\n",
      "      self.output['lower']['storage'].append(storage)\n",
      "\n",
      "    # return total storage last time step to make sure versions are equivalent\n",
      "    return self.output['upper']['storage'][-1] + self.output['lower']['storage'][-1]\n",
      "\n",
      "  def plot_results(self):\n",
      "    t = np.arange(self.days)\n",
      "    t_storage = np.arange(-1, self.days)\n",
      "\n",
      "    fig, ((ax11, ax12, ax13, ax14), (ax21, ax22, ax23, ax24)) = plt.subplots(2, 4, figsize=(12,6))\n",
      "    # make a little extra space between the subplots\n",
      "    fig.subplots_adjust(hspace=0.5)\n",
      "    ax11.plot(t, self.output['upper']['inflow'], c='indianred')\n",
      "    ax11.plot(t, np.array(self.output['upper']['inflow']) + np.array(self.output['upper']['upstream_release']), c='k')\n",
      "    ax11.legend(['Inflow', 'w/ UpRel'])\n",
      "    ax12.plot(t, self.output['upper']['demand'], c='indianred')\n",
      "    ax12.plot(t, self.output['upper']['delivery'], c='k')\n",
      "    ax12.legend(['Demand', 'Deliv'])\n",
      "    ax13.plot(t, self.output['upper']['min_flow'], c='indianred')\n",
      "    ax13.plot(t, self.output['upper']['release'], c='k')\n",
      "    ax13.legend(['MinFl', 'Release'])\n",
      "    ax14.plot(t_storage, self.output['upper']['storage'], c='k')\n",
      "    ax14.legend(['Storage'])\n",
      "\n",
      "    ax21.plot(t, self.output['lower']['inflow'], c='indianred')\n",
      "    ax21.plot(t, np.array(self.output['lower']['inflow']) + np.array(self.output['lower']['upstream_release']), c='k')\n",
      "    ax21.legend(['Inflow', 'w/ UpRel'])\n",
      "    ax22.plot(t, self.output['lower']['demand'], c='indianred')\n",
      "    ax22.plot(t, self.output['lower']['delivery'], c='k')\n",
      "    ax22.legend(['Demand', 'Deliv'])\n",
      "    ax23.plot(t, self.output['lower']['min_flow'], c='indianred')\n",
      "    ax23.plot(t, self.output['lower']['release'], c='k')\n",
      "    ax23.legend(['MinFl', 'Release'])\n",
      "    ax24.plot(t_storage, self.output['lower']['storage'], c='k')\n",
      "    ax24.legend(['Storage'])\n"
     ]
    }
   ],
   "source": [
    "! cat Model.py"
   ]
  },
  {
   "cell_type": "markdown",
   "metadata": {
    "slideshow": {
     "slide_type": "slide"
    }
   },
   "source": [
    "The main_py function runs the simulation."
   ]
  },
  {
   "cell_type": "code",
   "execution_count": 19,
   "metadata": {
    "slideshow": {
     "slide_type": "fragment"
    }
   },
   "outputs": [
    {
     "name": "stdout",
     "output_type": "stream",
     "text": [
      "\n",
      "    plt.show()\n",
      "\n",
      "\n",
      "\n",
      "### main file to run simulation\n",
      "from Model import Model\n",
      "\n",
      "# initialize model\n",
      "model = Model(years = 5, plot = True, seed = 101)\n",
      "\n",
      "# run simulation\n",
      "tot_storage = model.run()\n",
      "print(tot_storage)\n",
      "\n",
      "# plot results\n",
      "if model.plot:\n",
      "  model.plot_results()\n",
      "\n"
     ]
    }
   ],
   "source": [
    "! cat main_py.py"
   ]
  },
  {
   "cell_type": "code",
   "execution_count": 20,
   "metadata": {
    "slideshow": {
     "slide_type": "fragment"
    }
   },
   "outputs": [
    {
     "name": "stdout",
     "output_type": "stream",
     "text": [
      "12066.330987273821\n"
     ]
    },
    {
     "data": {
      "image/png": "[encoded data removed]",
      "text/plain": [
       "<Figure size 864x432 with 8 Axes>"
      ]
     },
     "metadata": {
      "needs_background": "light"
     },
     "output_type": "display_data"
    }
   ],
   "source": [
    "from Model import Model\n",
    "\n",
    "# initialize model\n",
    "model = Model(years = 5, plot = True, seed = 101)\n",
    "\n",
    "# run simulation\n",
    "tot_storage = model.run()\n",
    "print(tot_storage)\n",
    "\n",
    "# plot results\n",
    "if model.plot:\n",
    "  model.plot_results()"
   ]
  },
  {
   "cell_type": "code",
   "execution_count": 21,
   "metadata": {
    "slideshow": {
     "slide_type": "fragment"
    }
   },
   "outputs": [
    {
     "name": "stdout",
     "output_type": "stream",
     "text": [
      "C:\\Users\\Andrew\\cython_tutorial\\reservoir_sim\n"
     ]
    }
   ],
   "source": [
    "%cd ../"
   ]
  },
  {
   "cell_type": "markdown",
   "metadata": {
    "slideshow": {
     "slide_type": "fragment"
    }
   },
   "source": [
    "I have written 7 different versions of the model.\n",
    "\n",
    "1. py_slow: This was my first attempt at the simulation model, which is relatively slow due to the use of NumPy functions (random.normal, sin, pi) as opposed to the simpler versions in the random and math modules. I left this in to show that often the bottlenecks are simple things that can be fixed with purely Pythonic solutions - fixing these small things made a larger difference for this code than any Cythonization."
   ]
  },
  {
   "cell_type": "markdown",
   "metadata": {
    "slideshow": {
     "slide_type": "fragment"
    }
   },
   "source": [
    "2. py_fast: Pure Python version after switching modules as described above."
   ]
  },
  {
   "cell_type": "markdown",
   "metadata": {
    "slideshow": {
     "slide_type": "fragment"
    }
   },
   "source": [
    "3. py_cy: Same code as #2, but we will Cythonize the code without making any other changes."
   ]
  },
  {
   "cell_type": "markdown",
   "metadata": {
    "slideshow": {
     "slide_type": "fragment"
    }
   },
   "source": [
    "4. numpy: Same as #2, but using NumPy rather than dictionaries/lists for storing output data"
   ]
  },
  {
   "cell_type": "markdown",
   "metadata": {
    "slideshow": {
     "slide_type": "fragment"
    }
   },
   "source": [
    "5. cy: (Mostly) typed Cythonic implementation."
   ]
  },
  {
   "cell_type": "markdown",
   "metadata": {
    "slideshow": {
     "slide_type": "fragment"
    }
   },
   "source": [
    "6. cy_numpy: Same as #5, but using NumPy plus memoryviews for storing output data."
   ]
  },
  {
   "cell_type": "markdown",
   "metadata": {
    "slideshow": {
     "slide_type": "fragment"
    }
   },
   "source": [
    "7. cy_numpy_noCheck: Same as #6, but with bounds checking and wraparounds disabled strategically."
   ]
  },
  {
   "cell_type": "markdown",
   "metadata": {
    "slideshow": {
     "slide_type": "fragment"
    }
   },
   "source": [
    "You can Cythonize all relevant files and time all six versions using the command ``sh time_versions.sh python`` (or ``python3``). "
   ]
  },
  {
   "cell_type": "code",
   "execution_count": 22,
   "metadata": {
    "slideshow": {
     "slide_type": "fragment"
    }
   },
   "outputs": [
    {
     "name": "stdout",
     "output_type": "stream",
     "text": [
      "command=$1\n",
      "years=50\n",
      "trials=3\n",
      "repeat=10\n",
      "\n",
      "for dir in 'py_cy' 'cy' 'cy_numpy' 'cy_numpy_noCheck'\n",
      "do\n",
      "\tcd $dir\n",
      "\t$1 setup.py build_ext --inplace\n",
      "\tcd ../\n",
      "done\n",
      "echo \n",
      "echo \n",
      "echo 'Starting timings'\n",
      "for dir in 'py_slow' 'py_fast' 'py_cy' 'cy' 'numpy' 'cy_numpy' 'cy_numpy_noCheck'\n",
      "do\n",
      "\tcd $dir\n",
      "\tcp ../time_sim.py .\n",
      "\t$1 time_sim.py $years $trials $repeat $dir\n",
      "\trm time_sim.py\n",
      "\tcd ../\n",
      "done\n"
     ]
    }
   ],
   "source": [
    "! cat time_versions.sh"
   ]
  },
  {
   "cell_type": "code",
   "execution_count": 23,
   "metadata": {
    "slideshow": {
     "slide_type": "fragment"
    }
   },
   "outputs": [
    {
     "name": "stderr",
     "output_type": "stream",
     "text": [
      "rm: cannot remove '*/*.so': No such file or directory\n",
      "rm: cannot remove '*/*.pyd': No such file or directory\n",
      "rm: cannot remove '*/*.c': No such file or directory\n",
      "rm: cannot remove '*/*.html': No such file or directory\n"
     ]
    }
   ],
   "source": [
    "# delete old builds so we can re-cythonize\n",
    "! rm */*.so */*.pyd */*.c */*.html"
   ]
  },
  {
   "cell_type": "code",
   "execution_count": 24,
   "metadata": {
    "slideshow": {
     "slide_type": "fragment"
    }
   },
   "outputs": [
    {
     "name": "stdout",
     "output_type": "stream",
     "text": [
      "Compiling Model.py because it changed.\n",
      "Compiling Reservoir.py because it changed.\n",
      "Compiling Demand.py because it changed.\n",
      "[1/3] Cythonizing Demand.py\n",
      "[2/3] Cythonizing Model.py\n",
      "[3/3] Cythonizing Reservoir.py\n",
      "running build_ext\n",
      "building 'Model' extension\n",
      "C:\\Program Files (x86)\\Microsoft Visual Studio\\2019\\Community\\VC\\Tools\\MSVC\\14.27.29110\\bin\\HostX86\\x64\\cl.exe /c /nologo /Ox /W3 /GL /DNDEBUG /MD -IC:\\Users\\Andrew\\anaconda3\\envs\\.venv_cython\\include -IC:\\Users\\Andrew\\anaconda3\\envs\\.venv_cython\\include \"-IC:\\Program Files (x86)\\Microsoft Visual Studio\\2019\\Community\\VC\\Tools\\MSVC\\14.27.29110\\ATLMFC\\include\" \"-IC:\\Program Files (x86)\\Microsoft Visual Studio\\2019\\Community\\VC\\Tools\\MSVC\\14.27.29110\\include\" \"-IC:\\Program Files (x86)\\Windows Kits\\10\\include\\10.0.19041.0\\ucrt\" \"-IC:\\Program Files (x86)\\Windows Kits\\10\\include\\10.0.19041.0\\shared\" \"-IC:\\Program Files (x86)\\Windows Kits\\10\\include\\10.0.19041.0\\um\" \"-IC:\\Program Files (x86)\\Windows Kits\\10\\include\\10.0.19041.0\\winrt\" \"-IC:\\Program Files (x86)\\Windows Kits\\10\\include\\10.0.19041.0\\cppwinrt\" -IC:\\GTK\\INCLUDE -IC:\\GTK\\INCLUDE\\GTK-2.0 -IC:\\GTK\\INCLUDE\\GLIB-2.0 -IC:\\GTK\\INCLUDE\\PANGO-1.0 -IC:\\GTK\\INCLUDE\\CAIRO -IC:\\GTK\\INCLUDE\\ATK-1.0 -IC:\\GTK\\INCLUDE\\GTKGLEXT-1.0 -IC:\\GTK\\LIB\\GTK-2.0\\INCLUDE -IC:\\GTK\\LIB\\GLIB-2.0\\INCLUDE -IC:\\GTK\\LIB\\GTKGLEXT-1.0\\INCLUDE -IC:\\GTK\\INCLUDE\\LIBGLADE-2.0 -IC:\\GTK\\INCLUDE\\LIBXML2 /TcModel.c /Fobuild\\temp.win-amd64-3.7\\Release\\Model.obj\n",
      "Model.c\n",
      "C:\\Program Files (x86)\\Microsoft Visual Studio\\2019\\Community\\VC\\Tools\\MSVC\\14.27.29110\\bin\\HostX86\\x64\\link.exe /nologo /INCREMENTAL:NO /LTCG /DLL /MANIFEST:EMBED,ID=2 /MANIFESTUAC:NO /LIBPATH:C:\\Users\\Andrew\\anaconda3\\envs\\.venv_cython\\libs /LIBPATH:C:\\Users\\Andrew\\anaconda3\\envs\\.venv_cython\\PCbuild\\amd64 \"/LIBPATH:C:\\Program Files (x86)\\Microsoft Visual Studio\\2019\\Community\\VC\\Tools\\MSVC\\14.27.29110\\ATLMFC\\lib\\x64\" \"/LIBPATH:C:\\Program Files (x86)\\Microsoft Visual Studio\\2019\\Community\\VC\\Tools\\MSVC\\14.27.29110\\lib\\x64\" \"/LIBPATH:C:\\Program Files (x86)\\Windows Kits\\10\\lib\\10.0.19041.0\\ucrt\\x64\" \"/LIBPATH:C:\\Program Files (x86)\\Windows Kits\\10\\lib\\10.0.19041.0\\um\\x64\" /LIBPATH:C:\\GTK\\LIB /EXPORT:PyInit_Model build\\temp.win-amd64-3.7\\Release\\Model.obj /OUT:build\\lib.win-amd64-3.7\\Model.cp37-win_amd64.pyd /IMPLIB:build\\temp.win-amd64-3.7\\Release\\Model.cp37-win_amd64.lib\n",
      "   Creating library build\\temp.win-amd64-3.7\\Release\\Model.cp37-win_amd64.lib and object build\\temp.win-amd64-3.7\\Release\\Model.cp37-win_amd64.exp\n",
      "Generating code\n",
      "Finished generating code\n",
      "building 'Reservoir' extension\n",
      "C:\\Program Files (x86)\\Microsoft Visual Studio\\2019\\Community\\VC\\Tools\\MSVC\\14.27.29110\\bin\\HostX86\\x64\\cl.exe /c /nologo /Ox /W3 /GL /DNDEBUG /MD -IC:\\Users\\Andrew\\anaconda3\\envs\\.venv_cython\\include -IC:\\Users\\Andrew\\anaconda3\\envs\\.venv_cython\\include \"-IC:\\Program Files (x86)\\Microsoft Visual Studio\\2019\\Community\\VC\\Tools\\MSVC\\14.27.29110\\ATLMFC\\include\" \"-IC:\\Program Files (x86)\\Microsoft Visual Studio\\2019\\Community\\VC\\Tools\\MSVC\\14.27.29110\\include\" \"-IC:\\Program Files (x86)\\Windows Kits\\10\\include\\10.0.19041.0\\ucrt\" \"-IC:\\Program Files (x86)\\Windows Kits\\10\\include\\10.0.19041.0\\shared\" \"-IC:\\Program Files (x86)\\Windows Kits\\10\\include\\10.0.19041.0\\um\" \"-IC:\\Program Files (x86)\\Windows Kits\\10\\include\\10.0.19041.0\\winrt\" \"-IC:\\Program Files (x86)\\Windows Kits\\10\\include\\10.0.19041.0\\cppwinrt\" -IC:\\GTK\\INCLUDE -IC:\\GTK\\INCLUDE\\GTK-2.0 -IC:\\GTK\\INCLUDE\\GLIB-2.0 -IC:\\GTK\\INCLUDE\\PANGO-1.0 -IC:\\GTK\\INCLUDE\\CAIRO -IC:\\GTK\\INCLUDE\\ATK-1.0 -IC:\\GTK\\INCLUDE\\GTKGLEXT-1.0 -IC:\\GTK\\LIB\\GTK-2.0\\INCLUDE -IC:\\GTK\\LIB\\GLIB-2.0\\INCLUDE -IC:\\GTK\\LIB\\GTKGLEXT-1.0\\INCLUDE -IC:\\GTK\\INCLUDE\\LIBGLADE-2.0 -IC:\\GTK\\INCLUDE\\LIBXML2 /TcReservoir.c /Fobuild\\temp.win-amd64-3.7\\Release\\Reservoir.obj\n",
      "Reservoir.c\n",
      "C:\\Program Files (x86)\\Microsoft Visual Studio\\2019\\Community\\VC\\Tools\\MSVC\\14.27.29110\\bin\\HostX86\\x64\\link.exe /nologo /INCREMENTAL:NO /LTCG /DLL /MANIFEST:EMBED,ID=2 /MANIFESTUAC:NO /LIBPATH:C:\\Users\\Andrew\\anaconda3\\envs\\.venv_cython\\libs /LIBPATH:C:\\Users\\Andrew\\anaconda3\\envs\\.venv_cython\\PCbuild\\amd64 \"/LIBPATH:C:\\Program Files (x86)\\Microsoft Visual Studio\\2019\\Community\\VC\\Tools\\MSVC\\14.27.29110\\ATLMFC\\lib\\x64\" \"/LIBPATH:C:\\Program Files (x86)\\Microsoft Visual Studio\\2019\\Community\\VC\\Tools\\MSVC\\14.27.29110\\lib\\x64\" \"/LIBPATH:C:\\Program Files (x86)\\Windows Kits\\10\\lib\\10.0.19041.0\\ucrt\\x64\" \"/LIBPATH:C:\\Program Files (x86)\\Windows Kits\\10\\lib\\10.0.19041.0\\um\\x64\" /LIBPATH:C:\\GTK\\LIB /EXPORT:PyInit_Reservoir build\\temp.win-amd64-3.7\\Release\\Reservoir.obj /OUT:build\\lib.win-amd64-3.7\\Reservoir.cp37-win_amd64.pyd /IMPLIB:build\\temp.win-amd64-3.7\\Release\\Reservoir.cp37-win_amd64.lib\n",
      "   Creating library build\\temp.win-amd64-3.7\\Release\\Reservoir.cp37-win_amd64.lib and object build\\temp.win-amd64-3.7\\Release\\Reservoir.cp37-win_amd64.exp\n",
      "Generating code\n",
      "Finished generating code\n",
      "building 'Demand' extension\n",
      "C:\\Program Files (x86)\\Microsoft Visual Studio\\2019\\Community\\VC\\Tools\\MSVC\\14.27.29110\\bin\\HostX86\\x64\\cl.exe /c /nologo /Ox /W3 /GL /DNDEBUG /MD -IC:\\Users\\Andrew\\anaconda3\\envs\\.venv_cython\\include -IC:\\Users\\Andrew\\anaconda3\\envs\\.venv_cython\\include \"-IC:\\Program Files (x86)\\Microsoft Visual Studio\\2019\\Community\\VC\\Tools\\MSVC\\14.27.29110\\ATLMFC\\include\" \"-IC:\\Program Files (x86)\\Microsoft Visual Studio\\2019\\Community\\VC\\Tools\\MSVC\\14.27.29110\\include\" \"-IC:\\Program Files (x86)\\Windows Kits\\10\\include\\10.0.19041.0\\ucrt\" \"-IC:\\Program Files (x86)\\Windows Kits\\10\\include\\10.0.19041.0\\shared\" \"-IC:\\Program Files (x86)\\Windows Kits\\10\\include\\10.0.19041.0\\um\" \"-IC:\\Program Files (x86)\\Windows Kits\\10\\include\\10.0.19041.0\\winrt\" \"-IC:\\Program Files (x86)\\Windows Kits\\10\\include\\10.0.19041.0\\cppwinrt\" -IC:\\GTK\\INCLUDE -IC:\\GTK\\INCLUDE\\GTK-2.0 -IC:\\GTK\\INCLUDE\\GLIB-2.0 -IC:\\GTK\\INCLUDE\\PANGO-1.0 -IC:\\GTK\\INCLUDE\\CAIRO -IC:\\GTK\\INCLUDE\\ATK-1.0 -IC:\\GTK\\INCLUDE\\GTKGLEXT-1.0 -IC:\\GTK\\LIB\\GTK-2.0\\INCLUDE -IC:\\GTK\\LIB\\GLIB-2.0\\INCLUDE -IC:\\GTK\\LIB\\GTKGLEXT-1.0\\INCLUDE -IC:\\GTK\\INCLUDE\\LIBGLADE-2.0 -IC:\\GTK\\INCLUDE\\LIBXML2 /TcDemand.c /Fobuild\\temp.win-amd64-3.7\\Release\\Demand.obj\n",
      "Demand.c\n",
      "C:\\Program Files (x86)\\Microsoft Visual Studio\\2019\\Community\\VC\\Tools\\MSVC\\14.27.29110\\bin\\HostX86\\x64\\link.exe /nologo /INCREMENTAL:NO /LTCG /DLL /MANIFEST:EMBED,ID=2 /MANIFESTUAC:NO /LIBPATH:C:\\Users\\Andrew\\anaconda3\\envs\\.venv_cython\\libs /LIBPATH:C:\\Users\\Andrew\\anaconda3\\envs\\.venv_cython\\PCbuild\\amd64 \"/LIBPATH:C:\\Program Files (x86)\\Microsoft Visual Studio\\2019\\Community\\VC\\Tools\\MSVC\\14.27.29110\\ATLMFC\\lib\\x64\" \"/LIBPATH:C:\\Program Files (x86)\\Microsoft Visual Studio\\2019\\Community\\VC\\Tools\\MSVC\\14.27.29110\\lib\\x64\" \"/LIBPATH:C:\\Program Files (x86)\\Windows Kits\\10\\lib\\10.0.19041.0\\ucrt\\x64\" \"/LIBPATH:C:\\Program Files (x86)\\Windows Kits\\10\\lib\\10.0.19041.0\\um\\x64\" /LIBPATH:C:\\GTK\\LIB /EXPORT:PyInit_Demand build\\temp.win-amd64-3.7\\Release\\Demand.obj /OUT:build\\lib.win-amd64-3.7\\Demand.cp37-win_amd64.pyd /IMPLIB:build\\temp.win-amd64-3.7\\Release\\Demand.cp37-win_amd64.lib\n",
      "   Creating library build\\temp.win-amd64-3.7\\Release\\Demand.cp37-win_amd64.lib and object build\\temp.win-amd64-3.7\\Release\\Demand.cp37-win_amd64.exp\n",
      "Generating code\n",
      "Finished generating code\n",
      "copying build\\lib.win-amd64-3.7\\Model.cp37-win_amd64.pyd -> \n",
      "copying build\\lib.win-amd64-3.7\\Reservoir.cp37-win_amd64.pyd -> \n",
      "copying build\\lib.win-amd64-3.7\\Demand.cp37-win_amd64.pyd -> \n",
      "Compiling main_cy.pyx because it changed.\n",
      "Compiling Model.pyx because it changed.\n",
      "Compiling Reservoir.pyx because it changed.\n",
      "Compiling Demand.pyx because it changed.\n",
      "[1/4] Cythonizing Demand.pyx\n",
      "[2/4] Cythonizing Model.pyx\n",
      "[3/4] Cythonizing Reservoir.pyx\n",
      "[4/4] Cythonizing main_cy.pyx\n",
      "running build_ext\n",
      "building 'main_cy' extension\n",
      "C:\\Program Files (x86)\\Microsoft Visual Studio\\2019\\Community\\VC\\Tools\\MSVC\\14.27.29110\\bin\\HostX86\\x64\\cl.exe /c /nologo /Ox /W3 /GL /DNDEBUG /MD -IC:\\Users\\Andrew\\anaconda3\\envs\\.venv_cython\\include -IC:\\Users\\Andrew\\anaconda3\\envs\\.venv_cython\\include \"-IC:\\Program Files (x86)\\Microsoft Visual Studio\\2019\\Community\\VC\\Tools\\MSVC\\14.27.29110\\ATLMFC\\include\" \"-IC:\\Program Files (x86)\\Microsoft Visual Studio\\2019\\Community\\VC\\Tools\\MSVC\\14.27.29110\\include\" \"-IC:\\Program Files (x86)\\Windows Kits\\10\\include\\10.0.19041.0\\ucrt\" \"-IC:\\Program Files (x86)\\Windows Kits\\10\\include\\10.0.19041.0\\shared\" \"-IC:\\Program Files (x86)\\Windows Kits\\10\\include\\10.0.19041.0\\um\" \"-IC:\\Program Files (x86)\\Windows Kits\\10\\include\\10.0.19041.0\\winrt\" \"-IC:\\Program Files (x86)\\Windows Kits\\10\\include\\10.0.19041.0\\cppwinrt\" -IC:\\GTK\\INCLUDE -IC:\\GTK\\INCLUDE\\GTK-2.0 -IC:\\GTK\\INCLUDE\\GLIB-2.0 -IC:\\GTK\\INCLUDE\\PANGO-1.0 -IC:\\GTK\\INCLUDE\\CAIRO -IC:\\GTK\\INCLUDE\\ATK-1.0 -IC:\\GTK\\INCLUDE\\GTKGLEXT-1.0 -IC:\\GTK\\LIB\\GTK-2.0\\INCLUDE -IC:\\GTK\\LIB\\GLIB-2.0\\INCLUDE -IC:\\GTK\\LIB\\GTKGLEXT-1.0\\INCLUDE -IC:\\GTK\\INCLUDE\\LIBGLADE-2.0 -IC:\\GTK\\INCLUDE\\LIBXML2 /Tcmain_cy.c /Fobuild\\temp.win-amd64-3.7\\Release\\main_cy.obj\n",
      "main_cy.c\n",
      "C:\\Program Files (x86)\\Microsoft Visual Studio\\2019\\Community\\VC\\Tools\\MSVC\\14.27.29110\\bin\\HostX86\\x64\\link.exe /nologo /INCREMENTAL:NO /LTCG /DLL /MANIFEST:EMBED,ID=2 /MANIFESTUAC:NO /LIBPATH:C:\\Users\\Andrew\\anaconda3\\envs\\.venv_cython\\libs /LIBPATH:C:\\Users\\Andrew\\anaconda3\\envs\\.venv_cython\\PCbuild\\amd64 \"/LIBPATH:C:\\Program Files (x86)\\Microsoft Visual Studio\\2019\\Community\\VC\\Tools\\MSVC\\14.27.29110\\ATLMFC\\lib\\x64\" \"/LIBPATH:C:\\Program Files (x86)\\Microsoft Visual Studio\\2019\\Community\\VC\\Tools\\MSVC\\14.27.29110\\lib\\x64\" \"/LIBPATH:C:\\Program Files (x86)\\Windows Kits\\10\\lib\\10.0.19041.0\\ucrt\\x64\" \"/LIBPATH:C:\\Program Files (x86)\\Windows Kits\\10\\lib\\10.0.19041.0\\um\\x64\" /LIBPATH:C:\\GTK\\LIB /EXPORT:PyInit_main_cy build\\temp.win-amd64-3.7\\Release\\main_cy.obj /OUT:build\\lib.win-amd64-3.7\\main_cy.cp37-win_amd64.pyd /IMPLIB:build\\temp.win-amd64-3.7\\Release\\main_cy.cp37-win_amd64.lib\n",
      "   Creating library build\\temp.win-amd64-3.7\\Release\\main_cy.cp37-win_amd64.lib and object build\\temp.win-amd64-3.7\\Release\\main_cy.cp37-win_amd64.exp\n",
      "Generating code\n",
      "Finished generating code\n",
      "building 'Model' extension\n",
      "C:\\Program Files (x86)\\Microsoft Visual Studio\\2019\\Community\\VC\\Tools\\MSVC\\14.27.29110\\bin\\HostX86\\x64\\cl.exe /c /nologo /Ox /W3 /GL /DNDEBUG /MD -IC:\\Users\\Andrew\\anaconda3\\envs\\.venv_cython\\include -IC:\\Users\\Andrew\\anaconda3\\envs\\.venv_cython\\include \"-IC:\\Program Files (x86)\\Microsoft Visual Studio\\2019\\Community\\VC\\Tools\\MSVC\\14.27.29110\\ATLMFC\\include\" \"-IC:\\Program Files (x86)\\Microsoft Visual Studio\\2019\\Community\\VC\\Tools\\MSVC\\14.27.29110\\include\" \"-IC:\\Program Files (x86)\\Windows Kits\\10\\include\\10.0.19041.0\\ucrt\" \"-IC:\\Program Files (x86)\\Windows Kits\\10\\include\\10.0.19041.0\\shared\" \"-IC:\\Program Files (x86)\\Windows Kits\\10\\include\\10.0.19041.0\\um\" \"-IC:\\Program Files (x86)\\Windows Kits\\10\\include\\10.0.19041.0\\winrt\" \"-IC:\\Program Files (x86)\\Windows Kits\\10\\include\\10.0.19041.0\\cppwinrt\" -IC:\\GTK\\INCLUDE -IC:\\GTK\\INCLUDE\\GTK-2.0 -IC:\\GTK\\INCLUDE\\GLIB-2.0 -IC:\\GTK\\INCLUDE\\PANGO-1.0 -IC:\\GTK\\INCLUDE\\CAIRO -IC:\\GTK\\INCLUDE\\ATK-1.0 -IC:\\GTK\\INCLUDE\\GTKGLEXT-1.0 -IC:\\GTK\\LIB\\GTK-2.0\\INCLUDE -IC:\\GTK\\LIB\\GLIB-2.0\\INCLUDE -IC:\\GTK\\LIB\\GTKGLEXT-1.0\\INCLUDE -IC:\\GTK\\INCLUDE\\LIBGLADE-2.0 -IC:\\GTK\\INCLUDE\\LIBXML2 /TcModel.c /Fobuild\\temp.win-amd64-3.7\\Release\\Model.obj\n",
      "Model.c\n",
      "C:\\Program Files (x86)\\Microsoft Visual Studio\\2019\\Community\\VC\\Tools\\MSVC\\14.27.29110\\bin\\HostX86\\x64\\link.exe /nologo /INCREMENTAL:NO /LTCG /DLL /MANIFEST:EMBED,ID=2 /MANIFESTUAC:NO /LIBPATH:C:\\Users\\Andrew\\anaconda3\\envs\\.venv_cython\\libs /LIBPATH:C:\\Users\\Andrew\\anaconda3\\envs\\.venv_cython\\PCbuild\\amd64 \"/LIBPATH:C:\\Program Files (x86)\\Microsoft Visual Studio\\2019\\Community\\VC\\Tools\\MSVC\\14.27.29110\\ATLMFC\\lib\\x64\" \"/LIBPATH:C:\\Program Files (x86)\\Microsoft Visual Studio\\2019\\Community\\VC\\Tools\\MSVC\\14.27.29110\\lib\\x64\" \"/LIBPATH:C:\\Program Files (x86)\\Windows Kits\\10\\lib\\10.0.19041.0\\ucrt\\x64\" \"/LIBPATH:C:\\Program Files (x86)\\Windows Kits\\10\\lib\\10.0.19041.0\\um\\x64\" /LIBPATH:C:\\GTK\\LIB /EXPORT:PyInit_Model build\\temp.win-amd64-3.7\\Release\\Model.obj /OUT:build\\lib.win-amd64-3.7\\Model.cp37-win_amd64.pyd /IMPLIB:build\\temp.win-amd64-3.7\\Release\\Model.cp37-win_amd64.lib\n",
      "   Creating library build\\temp.win-amd64-3.7\\Release\\Model.cp37-win_amd64.lib and object build\\temp.win-amd64-3.7\\Release\\Model.cp37-win_amd64.exp\n",
      "Generating code\n",
      "Finished generating code\n",
      "building 'Reservoir' extension\n",
      "C:\\Program Files (x86)\\Microsoft Visual Studio\\2019\\Community\\VC\\Tools\\MSVC\\14.27.29110\\bin\\HostX86\\x64\\cl.exe /c /nologo /Ox /W3 /GL /DNDEBUG /MD -IC:\\Users\\Andrew\\anaconda3\\envs\\.venv_cython\\include -IC:\\Users\\Andrew\\anaconda3\\envs\\.venv_cython\\include \"-IC:\\Program Files (x86)\\Microsoft Visual Studio\\2019\\Community\\VC\\Tools\\MSVC\\14.27.29110\\ATLMFC\\include\" \"-IC:\\Program Files (x86)\\Microsoft Visual Studio\\2019\\Community\\VC\\Tools\\MSVC\\14.27.29110\\include\" \"-IC:\\Program Files (x86)\\Windows Kits\\10\\include\\10.0.19041.0\\ucrt\" \"-IC:\\Program Files (x86)\\Windows Kits\\10\\include\\10.0.19041.0\\shared\" \"-IC:\\Program Files (x86)\\Windows Kits\\10\\include\\10.0.19041.0\\um\" \"-IC:\\Program Files (x86)\\Windows Kits\\10\\include\\10.0.19041.0\\winrt\" \"-IC:\\Program Files (x86)\\Windows Kits\\10\\include\\10.0.19041.0\\cppwinrt\" -IC:\\GTK\\INCLUDE -IC:\\GTK\\INCLUDE\\GTK-2.0 -IC:\\GTK\\INCLUDE\\GLIB-2.0 -IC:\\GTK\\INCLUDE\\PANGO-1.0 -IC:\\GTK\\INCLUDE\\CAIRO -IC:\\GTK\\INCLUDE\\ATK-1.0 -IC:\\GTK\\INCLUDE\\GTKGLEXT-1.0 -IC:\\GTK\\LIB\\GTK-2.0\\INCLUDE -IC:\\GTK\\LIB\\GLIB-2.0\\INCLUDE -IC:\\GTK\\LIB\\GTKGLEXT-1.0\\INCLUDE -IC:\\GTK\\INCLUDE\\LIBGLADE-2.0 -IC:\\GTK\\INCLUDE\\LIBXML2 /TcReservoir.c /Fobuild\\temp.win-amd64-3.7\\Release\\Reservoir.obj\n",
      "Reservoir.c\n",
      "C:\\Program Files (x86)\\Microsoft Visual Studio\\2019\\Community\\VC\\Tools\\MSVC\\14.27.29110\\bin\\HostX86\\x64\\link.exe /nologo /INCREMENTAL:NO /LTCG /DLL /MANIFEST:EMBED,ID=2 /MANIFESTUAC:NO /LIBPATH:C:\\Users\\Andrew\\anaconda3\\envs\\.venv_cython\\libs /LIBPATH:C:\\Users\\Andrew\\anaconda3\\envs\\.venv_cython\\PCbuild\\amd64 \"/LIBPATH:C:\\Program Files (x86)\\Microsoft Visual Studio\\2019\\Community\\VC\\Tools\\MSVC\\14.27.29110\\ATLMFC\\lib\\x64\" \"/LIBPATH:C:\\Program Files (x86)\\Microsoft Visual Studio\\2019\\Community\\VC\\Tools\\MSVC\\14.27.29110\\lib\\x64\" \"/LIBPATH:C:\\Program Files (x86)\\Windows Kits\\10\\lib\\10.0.19041.0\\ucrt\\x64\" \"/LIBPATH:C:\\Program Files (x86)\\Windows Kits\\10\\lib\\10.0.19041.0\\um\\x64\" /LIBPATH:C:\\GTK\\LIB /EXPORT:PyInit_Reservoir build\\temp.win-amd64-3.7\\Release\\Reservoir.obj /OUT:build\\lib.win-amd64-3.7\\Reservoir.cp37-win_amd64.pyd /IMPLIB:build\\temp.win-amd64-3.7\\Release\\Reservoir.cp37-win_amd64.lib\n",
      "   Creating library build\\temp.win-amd64-3.7\\Release\\Reservoir.cp37-win_amd64.lib and object build\\temp.win-amd64-3.7\\Release\\Reservoir.cp37-win_amd64.exp\n",
      "Generating code\n",
      "Finished generating code\n",
      "building 'Demand' extension\n",
      "C:\\Program Files (x86)\\Microsoft Visual Studio\\2019\\Community\\VC\\Tools\\MSVC\\14.27.29110\\bin\\HostX86\\x64\\cl.exe /c /nologo /Ox /W3 /GL /DNDEBUG /MD -IC:\\Users\\Andrew\\anaconda3\\envs\\.venv_cython\\include -IC:\\Users\\Andrew\\anaconda3\\envs\\.venv_cython\\include \"-IC:\\Program Files (x86)\\Microsoft Visual Studio\\2019\\Community\\VC\\Tools\\MSVC\\14.27.29110\\ATLMFC\\include\" \"-IC:\\Program Files (x86)\\Microsoft Visual Studio\\2019\\Community\\VC\\Tools\\MSVC\\14.27.29110\\include\" \"-IC:\\Program Files (x86)\\Windows Kits\\10\\include\\10.0.19041.0\\ucrt\" \"-IC:\\Program Files (x86)\\Windows Kits\\10\\include\\10.0.19041.0\\shared\" \"-IC:\\Program Files (x86)\\Windows Kits\\10\\include\\10.0.19041.0\\um\" \"-IC:\\Program Files (x86)\\Windows Kits\\10\\include\\10.0.19041.0\\winrt\" \"-IC:\\Program Files (x86)\\Windows Kits\\10\\include\\10.0.19041.0\\cppwinrt\" -IC:\\GTK\\INCLUDE -IC:\\GTK\\INCLUDE\\GTK-2.0 -IC:\\GTK\\INCLUDE\\GLIB-2.0 -IC:\\GTK\\INCLUDE\\PANGO-1.0 -IC:\\GTK\\INCLUDE\\CAIRO -IC:\\GTK\\INCLUDE\\ATK-1.0 -IC:\\GTK\\INCLUDE\\GTKGLEXT-1.0 -IC:\\GTK\\LIB\\GTK-2.0\\INCLUDE -IC:\\GTK\\LIB\\GLIB-2.0\\INCLUDE -IC:\\GTK\\LIB\\GTKGLEXT-1.0\\INCLUDE -IC:\\GTK\\INCLUDE\\LIBGLADE-2.0 -IC:\\GTK\\INCLUDE\\LIBXML2 /TcDemand.c /Fobuild\\temp.win-amd64-3.7\\Release\\Demand.obj\n",
      "Demand.c\n",
      "C:\\Program Files (x86)\\Microsoft Visual Studio\\2019\\Community\\VC\\Tools\\MSVC\\14.27.29110\\bin\\HostX86\\x64\\link.exe /nologo /INCREMENTAL:NO /LTCG /DLL /MANIFEST:EMBED,ID=2 /MANIFESTUAC:NO /LIBPATH:C:\\Users\\Andrew\\anaconda3\\envs\\.venv_cython\\libs /LIBPATH:C:\\Users\\Andrew\\anaconda3\\envs\\.venv_cython\\PCbuild\\amd64 \"/LIBPATH:C:\\Program Files (x86)\\Microsoft Visual Studio\\2019\\Community\\VC\\Tools\\MSVC\\14.27.29110\\ATLMFC\\lib\\x64\" \"/LIBPATH:C:\\Program Files (x86)\\Microsoft Visual Studio\\2019\\Community\\VC\\Tools\\MSVC\\14.27.29110\\lib\\x64\" \"/LIBPATH:C:\\Program Files (x86)\\Windows Kits\\10\\lib\\10.0.19041.0\\ucrt\\x64\" \"/LIBPATH:C:\\Program Files (x86)\\Windows Kits\\10\\lib\\10.0.19041.0\\um\\x64\" /LIBPATH:C:\\GTK\\LIB /EXPORT:PyInit_Demand build\\temp.win-amd64-3.7\\Release\\Demand.obj /OUT:build\\lib.win-amd64-3.7\\Demand.cp37-win_amd64.pyd /IMPLIB:build\\temp.win-amd64-3.7\\Release\\Demand.cp37-win_amd64.lib\n",
      "   Creating library build\\temp.win-amd64-3.7\\Release\\Demand.cp37-win_amd64.lib and object build\\temp.win-amd64-3.7\\Release\\Demand.cp37-win_amd64.exp\n",
      "Generating code\n",
      "Finished generating code\n",
      "copying build\\lib.win-amd64-3.7\\main_cy.cp37-win_amd64.pyd -> \n",
      "copying build\\lib.win-amd64-3.7\\Model.cp37-win_amd64.pyd -> \n",
      "copying build\\lib.win-amd64-3.7\\Reservoir.cp37-win_amd64.pyd -> \n",
      "copying build\\lib.win-amd64-3.7\\Demand.cp37-win_amd64.pyd -> \n",
      "Compiling main_cy_numpy.pyx because it changed.\n",
      "Compiling Model.pyx because it changed.\n",
      "Compiling Reservoir.pyx because it changed.\n",
      "Compiling Demand.pyx because it changed.\n",
      "[1/4] Cythonizing Demand.pyx\n"
     ]
    },
    {
     "name": "stdout",
     "output_type": "stream",
     "text": [
      "[2/4] Cythonizing Model.pyx\n",
      "[3/4] Cythonizing Reservoir.pyx\n",
      "[4/4] Cythonizing main_cy_numpy.pyx\n",
      "running build_ext\n",
      "building 'main_cy_numpy' extension\n",
      "C:\\Program Files (x86)\\Microsoft Visual Studio\\2019\\Community\\VC\\Tools\\MSVC\\14.27.29110\\bin\\HostX86\\x64\\cl.exe /c /nologo /Ox /W3 /GL /DNDEBUG /MD -IC:\\Users\\Andrew\\anaconda3\\envs\\.venv_cython\\include -IC:\\Users\\Andrew\\anaconda3\\envs\\.venv_cython\\include \"-IC:\\Program Files (x86)\\Microsoft Visual Studio\\2019\\Community\\VC\\Tools\\MSVC\\14.27.29110\\ATLMFC\\include\" \"-IC:\\Program Files (x86)\\Microsoft Visual Studio\\2019\\Community\\VC\\Tools\\MSVC\\14.27.29110\\include\" \"-IC:\\Program Files (x86)\\Windows Kits\\10\\include\\10.0.19041.0\\ucrt\" \"-IC:\\Program Files (x86)\\Windows Kits\\10\\include\\10.0.19041.0\\shared\" \"-IC:\\Program Files (x86)\\Windows Kits\\10\\include\\10.0.19041.0\\um\" \"-IC:\\Program Files (x86)\\Windows Kits\\10\\include\\10.0.19041.0\\winrt\" \"-IC:\\Program Files (x86)\\Windows Kits\\10\\include\\10.0.19041.0\\cppwinrt\" -IC:\\GTK\\INCLUDE -IC:\\GTK\\INCLUDE\\GTK-2.0 -IC:\\GTK\\INCLUDE\\GLIB-2.0 -IC:\\GTK\\INCLUDE\\PANGO-1.0 -IC:\\GTK\\INCLUDE\\CAIRO -IC:\\GTK\\INCLUDE\\ATK-1.0 -IC:\\GTK\\INCLUDE\\GTKGLEXT-1.0 -IC:\\GTK\\LIB\\GTK-2.0\\INCLUDE -IC:\\GTK\\LIB\\GLIB-2.0\\INCLUDE -IC:\\GTK\\LIB\\GTKGLEXT-1.0\\INCLUDE -IC:\\GTK\\INCLUDE\\LIBGLADE-2.0 -IC:\\GTK\\INCLUDE\\LIBXML2 /Tcmain_cy_numpy.c /Fobuild\\temp.win-amd64-3.7\\Release\\main_cy_numpy.obj\n",
      "main_cy_numpy.c\n",
      "C:\\Program Files (x86)\\Microsoft Visual Studio\\2019\\Community\\VC\\Tools\\MSVC\\14.27.29110\\bin\\HostX86\\x64\\link.exe /nologo /INCREMENTAL:NO /LTCG /DLL /MANIFEST:EMBED,ID=2 /MANIFESTUAC:NO /LIBPATH:C:\\Users\\Andrew\\anaconda3\\envs\\.venv_cython\\libs /LIBPATH:C:\\Users\\Andrew\\anaconda3\\envs\\.venv_cython\\PCbuild\\amd64 \"/LIBPATH:C:\\Program Files (x86)\\Microsoft Visual Studio\\2019\\Community\\VC\\Tools\\MSVC\\14.27.29110\\ATLMFC\\lib\\x64\" \"/LIBPATH:C:\\Program Files (x86)\\Microsoft Visual Studio\\2019\\Community\\VC\\Tools\\MSVC\\14.27.29110\\lib\\x64\" \"/LIBPATH:C:\\Program Files (x86)\\Windows Kits\\10\\lib\\10.0.19041.0\\ucrt\\x64\" \"/LIBPATH:C:\\Program Files (x86)\\Windows Kits\\10\\lib\\10.0.19041.0\\um\\x64\" /LIBPATH:C:\\GTK\\LIB /EXPORT:PyInit_main_cy_numpy build\\temp.win-amd64-3.7\\Release\\main_cy_numpy.obj /OUT:build\\lib.win-amd64-3.7\\main_cy_numpy.cp37-win_amd64.pyd /IMPLIB:build\\temp.win-amd64-3.7\\Release\\main_cy_numpy.cp37-win_amd64.lib\n",
      "   Creating library build\\temp.win-amd64-3.7\\Release\\main_cy_numpy.cp37-win_amd64.lib and object build\\temp.win-amd64-3.7\\Release\\main_cy_numpy.cp37-win_amd64.exp\n",
      "Generating code\n",
      "Finished generating code\n",
      "building 'Model' extension\n",
      "C:\\Program Files (x86)\\Microsoft Visual Studio\\2019\\Community\\VC\\Tools\\MSVC\\14.27.29110\\bin\\HostX86\\x64\\cl.exe /c /nologo /Ox /W3 /GL /DNDEBUG /MD -IC:\\Users\\Andrew\\anaconda3\\envs\\.venv_cython\\include -IC:\\Users\\Andrew\\anaconda3\\envs\\.venv_cython\\include \"-IC:\\Program Files (x86)\\Microsoft Visual Studio\\2019\\Community\\VC\\Tools\\MSVC\\14.27.29110\\ATLMFC\\include\" \"-IC:\\Program Files (x86)\\Microsoft Visual Studio\\2019\\Community\\VC\\Tools\\MSVC\\14.27.29110\\include\" \"-IC:\\Program Files (x86)\\Windows Kits\\10\\include\\10.0.19041.0\\ucrt\" \"-IC:\\Program Files (x86)\\Windows Kits\\10\\include\\10.0.19041.0\\shared\" \"-IC:\\Program Files (x86)\\Windows Kits\\10\\include\\10.0.19041.0\\um\" \"-IC:\\Program Files (x86)\\Windows Kits\\10\\include\\10.0.19041.0\\winrt\" \"-IC:\\Program Files (x86)\\Windows Kits\\10\\include\\10.0.19041.0\\cppwinrt\" -IC:\\GTK\\INCLUDE -IC:\\GTK\\INCLUDE\\GTK-2.0 -IC:\\GTK\\INCLUDE\\GLIB-2.0 -IC:\\GTK\\INCLUDE\\PANGO-1.0 -IC:\\GTK\\INCLUDE\\CAIRO -IC:\\GTK\\INCLUDE\\ATK-1.0 -IC:\\GTK\\INCLUDE\\GTKGLEXT-1.0 -IC:\\GTK\\LIB\\GTK-2.0\\INCLUDE -IC:\\GTK\\LIB\\GLIB-2.0\\INCLUDE -IC:\\GTK\\LIB\\GTKGLEXT-1.0\\INCLUDE -IC:\\GTK\\INCLUDE\\LIBGLADE-2.0 -IC:\\GTK\\INCLUDE\\LIBXML2 /TcModel.c /Fobuild\\temp.win-amd64-3.7\\Release\\Model.obj\n",
      "Model.c\n",
      "C:\\Program Files (x86)\\Microsoft Visual Studio\\2019\\Community\\VC\\Tools\\MSVC\\14.27.29110\\bin\\HostX86\\x64\\link.exe /nologo /INCREMENTAL:NO /LTCG /DLL /MANIFEST:EMBED,ID=2 /MANIFESTUAC:NO /LIBPATH:C:\\Users\\Andrew\\anaconda3\\envs\\.venv_cython\\libs /LIBPATH:C:\\Users\\Andrew\\anaconda3\\envs\\.venv_cython\\PCbuild\\amd64 \"/LIBPATH:C:\\Program Files (x86)\\Microsoft Visual Studio\\2019\\Community\\VC\\Tools\\MSVC\\14.27.29110\\ATLMFC\\lib\\x64\" \"/LIBPATH:C:\\Program Files (x86)\\Microsoft Visual Studio\\2019\\Community\\VC\\Tools\\MSVC\\14.27.29110\\lib\\x64\" \"/LIBPATH:C:\\Program Files (x86)\\Windows Kits\\10\\lib\\10.0.19041.0\\ucrt\\x64\" \"/LIBPATH:C:\\Program Files (x86)\\Windows Kits\\10\\lib\\10.0.19041.0\\um\\x64\" /LIBPATH:C:\\GTK\\LIB /EXPORT:PyInit_Model build\\temp.win-amd64-3.7\\Release\\Model.obj /OUT:build\\lib.win-amd64-3.7\\Model.cp37-win_amd64.pyd /IMPLIB:build\\temp.win-amd64-3.7\\Release\\Model.cp37-win_amd64.lib\n",
      "   Creating library build\\temp.win-amd64-3.7\\Release\\Model.cp37-win_amd64.lib and object build\\temp.win-amd64-3.7\\Release\\Model.cp37-win_amd64.exp\n",
      "Generating code\n",
      "Finished generating code\n",
      "building 'Reservoir' extension\n",
      "C:\\Program Files (x86)\\Microsoft Visual Studio\\2019\\Community\\VC\\Tools\\MSVC\\14.27.29110\\bin\\HostX86\\x64\\cl.exe /c /nologo /Ox /W3 /GL /DNDEBUG /MD -IC:\\Users\\Andrew\\anaconda3\\envs\\.venv_cython\\include -IC:\\Users\\Andrew\\anaconda3\\envs\\.venv_cython\\include \"-IC:\\Program Files (x86)\\Microsoft Visual Studio\\2019\\Community\\VC\\Tools\\MSVC\\14.27.29110\\ATLMFC\\include\" \"-IC:\\Program Files (x86)\\Microsoft Visual Studio\\2019\\Community\\VC\\Tools\\MSVC\\14.27.29110\\include\" \"-IC:\\Program Files (x86)\\Windows Kits\\10\\include\\10.0.19041.0\\ucrt\" \"-IC:\\Program Files (x86)\\Windows Kits\\10\\include\\10.0.19041.0\\shared\" \"-IC:\\Program Files (x86)\\Windows Kits\\10\\include\\10.0.19041.0\\um\" \"-IC:\\Program Files (x86)\\Windows Kits\\10\\include\\10.0.19041.0\\winrt\" \"-IC:\\Program Files (x86)\\Windows Kits\\10\\include\\10.0.19041.0\\cppwinrt\" -IC:\\GTK\\INCLUDE -IC:\\GTK\\INCLUDE\\GTK-2.0 -IC:\\GTK\\INCLUDE\\GLIB-2.0 -IC:\\GTK\\INCLUDE\\PANGO-1.0 -IC:\\GTK\\INCLUDE\\CAIRO -IC:\\GTK\\INCLUDE\\ATK-1.0 -IC:\\GTK\\INCLUDE\\GTKGLEXT-1.0 -IC:\\GTK\\LIB\\GTK-2.0\\INCLUDE -IC:\\GTK\\LIB\\GLIB-2.0\\INCLUDE -IC:\\GTK\\LIB\\GTKGLEXT-1.0\\INCLUDE -IC:\\GTK\\INCLUDE\\LIBGLADE-2.0 -IC:\\GTK\\INCLUDE\\LIBXML2 /TcReservoir.c /Fobuild\\temp.win-amd64-3.7\\Release\\Reservoir.obj\n",
      "Reservoir.c\n",
      "C:\\Program Files (x86)\\Microsoft Visual Studio\\2019\\Community\\VC\\Tools\\MSVC\\14.27.29110\\bin\\HostX86\\x64\\link.exe /nologo /INCREMENTAL:NO /LTCG /DLL /MANIFEST:EMBED,ID=2 /MANIFESTUAC:NO /LIBPATH:C:\\Users\\Andrew\\anaconda3\\envs\\.venv_cython\\libs /LIBPATH:C:\\Users\\Andrew\\anaconda3\\envs\\.venv_cython\\PCbuild\\amd64 \"/LIBPATH:C:\\Program Files (x86)\\Microsoft Visual Studio\\2019\\Community\\VC\\Tools\\MSVC\\14.27.29110\\ATLMFC\\lib\\x64\" \"/LIBPATH:C:\\Program Files (x86)\\Microsoft Visual Studio\\2019\\Community\\VC\\Tools\\MSVC\\14.27.29110\\lib\\x64\" \"/LIBPATH:C:\\Program Files (x86)\\Windows Kits\\10\\lib\\10.0.19041.0\\ucrt\\x64\" \"/LIBPATH:C:\\Program Files (x86)\\Windows Kits\\10\\lib\\10.0.19041.0\\um\\x64\" /LIBPATH:C:\\GTK\\LIB /EXPORT:PyInit_Reservoir build\\temp.win-amd64-3.7\\Release\\Reservoir.obj /OUT:build\\lib.win-amd64-3.7\\Reservoir.cp37-win_amd64.pyd /IMPLIB:build\\temp.win-amd64-3.7\\Release\\Reservoir.cp37-win_amd64.lib\n",
      "   Creating library build\\temp.win-amd64-3.7\\Release\\Reservoir.cp37-win_amd64.lib and object build\\temp.win-amd64-3.7\\Release\\Reservoir.cp37-win_amd64.exp\n",
      "Generating code\n",
      "Finished generating code\n",
      "building 'Demand' extension\n",
      "C:\\Program Files (x86)\\Microsoft Visual Studio\\2019\\Community\\VC\\Tools\\MSVC\\14.27.29110\\bin\\HostX86\\x64\\cl.exe /c /nologo /Ox /W3 /GL /DNDEBUG /MD -IC:\\Users\\Andrew\\anaconda3\\envs\\.venv_cython\\include -IC:\\Users\\Andrew\\anaconda3\\envs\\.venv_cython\\include \"-IC:\\Program Files (x86)\\Microsoft Visual Studio\\2019\\Community\\VC\\Tools\\MSVC\\14.27.29110\\ATLMFC\\include\" \"-IC:\\Program Files (x86)\\Microsoft Visual Studio\\2019\\Community\\VC\\Tools\\MSVC\\14.27.29110\\include\" \"-IC:\\Program Files (x86)\\Windows Kits\\10\\include\\10.0.19041.0\\ucrt\" \"-IC:\\Program Files (x86)\\Windows Kits\\10\\include\\10.0.19041.0\\shared\" \"-IC:\\Program Files (x86)\\Windows Kits\\10\\include\\10.0.19041.0\\um\" \"-IC:\\Program Files (x86)\\Windows Kits\\10\\include\\10.0.19041.0\\winrt\" \"-IC:\\Program Files (x86)\\Windows Kits\\10\\include\\10.0.19041.0\\cppwinrt\" -IC:\\GTK\\INCLUDE -IC:\\GTK\\INCLUDE\\GTK-2.0 -IC:\\GTK\\INCLUDE\\GLIB-2.0 -IC:\\GTK\\INCLUDE\\PANGO-1.0 -IC:\\GTK\\INCLUDE\\CAIRO -IC:\\GTK\\INCLUDE\\ATK-1.0 -IC:\\GTK\\INCLUDE\\GTKGLEXT-1.0 -IC:\\GTK\\LIB\\GTK-2.0\\INCLUDE -IC:\\GTK\\LIB\\GLIB-2.0\\INCLUDE -IC:\\GTK\\LIB\\GTKGLEXT-1.0\\INCLUDE -IC:\\GTK\\INCLUDE\\LIBGLADE-2.0 -IC:\\GTK\\INCLUDE\\LIBXML2 /TcDemand.c /Fobuild\\temp.win-amd64-3.7\\Release\\Demand.obj\n",
      "Demand.c\n",
      "C:\\Program Files (x86)\\Microsoft Visual Studio\\2019\\Community\\VC\\Tools\\MSVC\\14.27.29110\\bin\\HostX86\\x64\\link.exe /nologo /INCREMENTAL:NO /LTCG /DLL /MANIFEST:EMBED,ID=2 /MANIFESTUAC:NO /LIBPATH:C:\\Users\\Andrew\\anaconda3\\envs\\.venv_cython\\libs /LIBPATH:C:\\Users\\Andrew\\anaconda3\\envs\\.venv_cython\\PCbuild\\amd64 \"/LIBPATH:C:\\Program Files (x86)\\Microsoft Visual Studio\\2019\\Community\\VC\\Tools\\MSVC\\14.27.29110\\ATLMFC\\lib\\x64\" \"/LIBPATH:C:\\Program Files (x86)\\Microsoft Visual Studio\\2019\\Community\\VC\\Tools\\MSVC\\14.27.29110\\lib\\x64\" \"/LIBPATH:C:\\Program Files (x86)\\Windows Kits\\10\\lib\\10.0.19041.0\\ucrt\\x64\" \"/LIBPATH:C:\\Program Files (x86)\\Windows Kits\\10\\lib\\10.0.19041.0\\um\\x64\" /LIBPATH:C:\\GTK\\LIB /EXPORT:PyInit_Demand build\\temp.win-amd64-3.7\\Release\\Demand.obj /OUT:build\\lib.win-amd64-3.7\\Demand.cp37-win_amd64.pyd /IMPLIB:build\\temp.win-amd64-3.7\\Release\\Demand.cp37-win_amd64.lib\n",
      "   Creating library build\\temp.win-amd64-3.7\\Release\\Demand.cp37-win_amd64.lib and object build\\temp.win-amd64-3.7\\Release\\Demand.cp37-win_amd64.exp\n",
      "Generating code\n",
      "Finished generating code\n",
      "copying build\\lib.win-amd64-3.7\\main_cy_numpy.cp37-win_amd64.pyd -> \n",
      "copying build\\lib.win-amd64-3.7\\Model.cp37-win_amd64.pyd -> \n",
      "copying build\\lib.win-amd64-3.7\\Reservoir.cp37-win_amd64.pyd -> \n",
      "copying build\\lib.win-amd64-3.7\\Demand.cp37-win_amd64.pyd -> \n",
      "Compiling main_cy_numpy_noCheck.pyx because it changed.\n",
      "Compiling Model.pyx because it changed.\n",
      "Compiling Reservoir.pyx because it changed.\n",
      "Compiling Demand.pyx because it changed.\n",
      "[1/4] Cythonizing Demand.pyx\n",
      "[2/4] Cythonizing Model.pyx\n",
      "[3/4] Cythonizing Reservoir.pyx\n",
      "[4/4] Cythonizing main_cy_numpy_noCheck.pyx\n",
      "running build_ext\n",
      "building 'main_cy_numpy_noCheck' extension\n",
      "C:\\Program Files (x86)\\Microsoft Visual Studio\\2019\\Community\\VC\\Tools\\MSVC\\14.27.29110\\bin\\HostX86\\x64\\cl.exe /c /nologo /Ox /W3 /GL /DNDEBUG /MD -IC:\\Users\\Andrew\\anaconda3\\envs\\.venv_cython\\include -IC:\\Users\\Andrew\\anaconda3\\envs\\.venv_cython\\include \"-IC:\\Program Files (x86)\\Microsoft Visual Studio\\2019\\Community\\VC\\Tools\\MSVC\\14.27.29110\\ATLMFC\\include\" \"-IC:\\Program Files (x86)\\Microsoft Visual Studio\\2019\\Community\\VC\\Tools\\MSVC\\14.27.29110\\include\" \"-IC:\\Program Files (x86)\\Windows Kits\\10\\include\\10.0.19041.0\\ucrt\" \"-IC:\\Program Files (x86)\\Windows Kits\\10\\include\\10.0.19041.0\\shared\" \"-IC:\\Program Files (x86)\\Windows Kits\\10\\include\\10.0.19041.0\\um\" \"-IC:\\Program Files (x86)\\Windows Kits\\10\\include\\10.0.19041.0\\winrt\" \"-IC:\\Program Files (x86)\\Windows Kits\\10\\include\\10.0.19041.0\\cppwinrt\" -IC:\\GTK\\INCLUDE -IC:\\GTK\\INCLUDE\\GTK-2.0 -IC:\\GTK\\INCLUDE\\GLIB-2.0 -IC:\\GTK\\INCLUDE\\PANGO-1.0 -IC:\\GTK\\INCLUDE\\CAIRO -IC:\\GTK\\INCLUDE\\ATK-1.0 -IC:\\GTK\\INCLUDE\\GTKGLEXT-1.0 -IC:\\GTK\\LIB\\GTK-2.0\\INCLUDE -IC:\\GTK\\LIB\\GLIB-2.0\\INCLUDE -IC:\\GTK\\LIB\\GTKGLEXT-1.0\\INCLUDE -IC:\\GTK\\INCLUDE\\LIBGLADE-2.0 -IC:\\GTK\\INCLUDE\\LIBXML2 /Tcmain_cy_numpy_noCheck.c /Fobuild\\temp.win-amd64-3.7\\Release\\main_cy_numpy_noCheck.obj\n",
      "main_cy_numpy_noCheck.c\n",
      "C:\\Program Files (x86)\\Microsoft Visual Studio\\2019\\Community\\VC\\Tools\\MSVC\\14.27.29110\\bin\\HostX86\\x64\\link.exe /nologo /INCREMENTAL:NO /LTCG /DLL /MANIFEST:EMBED,ID=2 /MANIFESTUAC:NO /LIBPATH:C:\\Users\\Andrew\\anaconda3\\envs\\.venv_cython\\libs /LIBPATH:C:\\Users\\Andrew\\anaconda3\\envs\\.venv_cython\\PCbuild\\amd64 \"/LIBPATH:C:\\Program Files (x86)\\Microsoft Visual Studio\\2019\\Community\\VC\\Tools\\MSVC\\14.27.29110\\ATLMFC\\lib\\x64\" \"/LIBPATH:C:\\Program Files (x86)\\Microsoft Visual Studio\\2019\\Community\\VC\\Tools\\MSVC\\14.27.29110\\lib\\x64\" \"/LIBPATH:C:\\Program Files (x86)\\Windows Kits\\10\\lib\\10.0.19041.0\\ucrt\\x64\" \"/LIBPATH:C:\\Program Files (x86)\\Windows Kits\\10\\lib\\10.0.19041.0\\um\\x64\" /LIBPATH:C:\\GTK\\LIB /EXPORT:PyInit_main_cy_numpy_noCheck build\\temp.win-amd64-3.7\\Release\\main_cy_numpy_noCheck.obj /OUT:build\\lib.win-amd64-3.7\\main_cy_numpy_noCheck.cp37-win_amd64.pyd /IMPLIB:build\\temp.win-amd64-3.7\\Release\\main_cy_numpy_noCheck.cp37-win_amd64.lib\n",
      "   Creating library build\\temp.win-amd64-3.7\\Release\\main_cy_numpy_noCheck.cp37-win_amd64.lib and object build\\temp.win-amd64-3.7\\Release\\main_cy_numpy_noCheck.cp37-win_amd64.exp\n",
      "Generating code\n",
      "Finished generating code\n",
      "building 'Model' extension\n",
      "C:\\Program Files (x86)\\Microsoft Visual Studio\\2019\\Community\\VC\\Tools\\MSVC\\14.27.29110\\bin\\HostX86\\x64\\cl.exe /c /nologo /Ox /W3 /GL /DNDEBUG /MD -IC:\\Users\\Andrew\\anaconda3\\envs\\.venv_cython\\include -IC:\\Users\\Andrew\\anaconda3\\envs\\.venv_cython\\include \"-IC:\\Program Files (x86)\\Microsoft Visual Studio\\2019\\Community\\VC\\Tools\\MSVC\\14.27.29110\\ATLMFC\\include\" \"-IC:\\Program Files (x86)\\Microsoft Visual Studio\\2019\\Community\\VC\\Tools\\MSVC\\14.27.29110\\include\" \"-IC:\\Program Files (x86)\\Windows Kits\\10\\include\\10.0.19041.0\\ucrt\" \"-IC:\\Program Files (x86)\\Windows Kits\\10\\include\\10.0.19041.0\\shared\" \"-IC:\\Program Files (x86)\\Windows Kits\\10\\include\\10.0.19041.0\\um\" \"-IC:\\Program Files (x86)\\Windows Kits\\10\\include\\10.0.19041.0\\winrt\" \"-IC:\\Program Files (x86)\\Windows Kits\\10\\include\\10.0.19041.0\\cppwinrt\" -IC:\\GTK\\INCLUDE -IC:\\GTK\\INCLUDE\\GTK-2.0 -IC:\\GTK\\INCLUDE\\GLIB-2.0 -IC:\\GTK\\INCLUDE\\PANGO-1.0 -IC:\\GTK\\INCLUDE\\CAIRO -IC:\\GTK\\INCLUDE\\ATK-1.0 -IC:\\GTK\\INCLUDE\\GTKGLEXT-1.0 -IC:\\GTK\\LIB\\GTK-2.0\\INCLUDE -IC:\\GTK\\LIB\\GLIB-2.0\\INCLUDE -IC:\\GTK\\LIB\\GTKGLEXT-1.0\\INCLUDE -IC:\\GTK\\INCLUDE\\LIBGLADE-2.0 -IC:\\GTK\\INCLUDE\\LIBXML2 /TcModel.c /Fobuild\\temp.win-amd64-3.7\\Release\\Model.obj\n",
      "Model.c\n",
      "C:\\Program Files (x86)\\Microsoft Visual Studio\\2019\\Community\\VC\\Tools\\MSVC\\14.27.29110\\bin\\HostX86\\x64\\link.exe /nologo /INCREMENTAL:NO /LTCG /DLL /MANIFEST:EMBED,ID=2 /MANIFESTUAC:NO /LIBPATH:C:\\Users\\Andrew\\anaconda3\\envs\\.venv_cython\\libs /LIBPATH:C:\\Users\\Andrew\\anaconda3\\envs\\.venv_cython\\PCbuild\\amd64 \"/LIBPATH:C:\\Program Files (x86)\\Microsoft Visual Studio\\2019\\Community\\VC\\Tools\\MSVC\\14.27.29110\\ATLMFC\\lib\\x64\" \"/LIBPATH:C:\\Program Files (x86)\\Microsoft Visual Studio\\2019\\Community\\VC\\Tools\\MSVC\\14.27.29110\\lib\\x64\" \"/LIBPATH:C:\\Program Files (x86)\\Windows Kits\\10\\lib\\10.0.19041.0\\ucrt\\x64\" \"/LIBPATH:C:\\Program Files (x86)\\Windows Kits\\10\\lib\\10.0.19041.0\\um\\x64\" /LIBPATH:C:\\GTK\\LIB /EXPORT:PyInit_Model build\\temp.win-amd64-3.7\\Release\\Model.obj /OUT:build\\lib.win-amd64-3.7\\Model.cp37-win_amd64.pyd /IMPLIB:build\\temp.win-amd64-3.7\\Release\\Model.cp37-win_amd64.lib\n",
      "   Creating library build\\temp.win-amd64-3.7\\Release\\Model.cp37-win_amd64.lib and object build\\temp.win-amd64-3.7\\Release\\Model.cp37-win_amd64.exp\n",
      "Generating code\n",
      "Finished generating code\n",
      "building 'Reservoir' extension\n",
      "C:\\Program Files (x86)\\Microsoft Visual Studio\\2019\\Community\\VC\\Tools\\MSVC\\14.27.29110\\bin\\HostX86\\x64\\cl.exe /c /nologo /Ox /W3 /GL /DNDEBUG /MD -IC:\\Users\\Andrew\\anaconda3\\envs\\.venv_cython\\include -IC:\\Users\\Andrew\\anaconda3\\envs\\.venv_cython\\include \"-IC:\\Program Files (x86)\\Microsoft Visual Studio\\2019\\Community\\VC\\Tools\\MSVC\\14.27.29110\\ATLMFC\\include\" \"-IC:\\Program Files (x86)\\Microsoft Visual Studio\\2019\\Community\\VC\\Tools\\MSVC\\14.27.29110\\include\" \"-IC:\\Program Files (x86)\\Windows Kits\\10\\include\\10.0.19041.0\\ucrt\" \"-IC:\\Program Files (x86)\\Windows Kits\\10\\include\\10.0.19041.0\\shared\" \"-IC:\\Program Files (x86)\\Windows Kits\\10\\include\\10.0.19041.0\\um\" \"-IC:\\Program Files (x86)\\Windows Kits\\10\\include\\10.0.19041.0\\winrt\" \"-IC:\\Program Files (x86)\\Windows Kits\\10\\include\\10.0.19041.0\\cppwinrt\" -IC:\\GTK\\INCLUDE -IC:\\GTK\\INCLUDE\\GTK-2.0 -IC:\\GTK\\INCLUDE\\GLIB-2.0 -IC:\\GTK\\INCLUDE\\PANGO-1.0 -IC:\\GTK\\INCLUDE\\CAIRO -IC:\\GTK\\INCLUDE\\ATK-1.0 -IC:\\GTK\\INCLUDE\\GTKGLEXT-1.0 -IC:\\GTK\\LIB\\GTK-2.0\\INCLUDE -IC:\\GTK\\LIB\\GLIB-2.0\\INCLUDE -IC:\\GTK\\LIB\\GTKGLEXT-1.0\\INCLUDE -IC:\\GTK\\INCLUDE\\LIBGLADE-2.0 -IC:\\GTK\\INCLUDE\\LIBXML2 /TcReservoir.c /Fobuild\\temp.win-amd64-3.7\\Release\\Reservoir.obj\n",
      "Reservoir.c\n",
      "C:\\Program Files (x86)\\Microsoft Visual Studio\\2019\\Community\\VC\\Tools\\MSVC\\14.27.29110\\bin\\HostX86\\x64\\link.exe /nologo /INCREMENTAL:NO /LTCG /DLL /MANIFEST:EMBED,ID=2 /MANIFESTUAC:NO /LIBPATH:C:\\Users\\Andrew\\anaconda3\\envs\\.venv_cython\\libs /LIBPATH:C:\\Users\\Andrew\\anaconda3\\envs\\.venv_cython\\PCbuild\\amd64 \"/LIBPATH:C:\\Program Files (x86)\\Microsoft Visual Studio\\2019\\Community\\VC\\Tools\\MSVC\\14.27.29110\\ATLMFC\\lib\\x64\" \"/LIBPATH:C:\\Program Files (x86)\\Microsoft Visual Studio\\2019\\Community\\VC\\Tools\\MSVC\\14.27.29110\\lib\\x64\" \"/LIBPATH:C:\\Program Files (x86)\\Windows Kits\\10\\lib\\10.0.19041.0\\ucrt\\x64\" \"/LIBPATH:C:\\Program Files (x86)\\Windows Kits\\10\\lib\\10.0.19041.0\\um\\x64\" /LIBPATH:C:\\GTK\\LIB /EXPORT:PyInit_Reservoir build\\temp.win-amd64-3.7\\Release\\Reservoir.obj /OUT:build\\lib.win-amd64-3.7\\Reservoir.cp37-win_amd64.pyd /IMPLIB:build\\temp.win-amd64-3.7\\Release\\Reservoir.cp37-win_amd64.lib\n",
      "   Creating library build\\temp.win-amd64-3.7\\Release\\Reservoir.cp37-win_amd64.lib and object build\\temp.win-amd64-3.7\\Release\\Reservoir.cp37-win_amd64.exp\n",
      "Generating code\n",
      "Finished generating code\n",
      "building 'Demand' extension\n",
      "C:\\Program Files (x86)\\Microsoft Visual Studio\\2019\\Community\\VC\\Tools\\MSVC\\14.27.29110\\bin\\HostX86\\x64\\cl.exe /c /nologo /Ox /W3 /GL /DNDEBUG /MD -IC:\\Users\\Andrew\\anaconda3\\envs\\.venv_cython\\include -IC:\\Users\\Andrew\\anaconda3\\envs\\.venv_cython\\include \"-IC:\\Program Files (x86)\\Microsoft Visual Studio\\2019\\Community\\VC\\Tools\\MSVC\\14.27.29110\\ATLMFC\\include\" \"-IC:\\Program Files (x86)\\Microsoft Visual Studio\\2019\\Community\\VC\\Tools\\MSVC\\14.27.29110\\include\" \"-IC:\\Program Files (x86)\\Windows Kits\\10\\include\\10.0.19041.0\\ucrt\" \"-IC:\\Program Files (x86)\\Windows Kits\\10\\include\\10.0.19041.0\\shared\" \"-IC:\\Program Files (x86)\\Windows Kits\\10\\include\\10.0.19041.0\\um\" \"-IC:\\Program Files (x86)\\Windows Kits\\10\\include\\10.0.19041.0\\winrt\" \"-IC:\\Program Files (x86)\\Windows Kits\\10\\include\\10.0.19041.0\\cppwinrt\" -IC:\\GTK\\INCLUDE -IC:\\GTK\\INCLUDE\\GTK-2.0 -IC:\\GTK\\INCLUDE\\GLIB-2.0 -IC:\\GTK\\INCLUDE\\PANGO-1.0 -IC:\\GTK\\INCLUDE\\CAIRO -IC:\\GTK\\INCLUDE\\ATK-1.0 -IC:\\GTK\\INCLUDE\\GTKGLEXT-1.0 -IC:\\GTK\\LIB\\GTK-2.0\\INCLUDE -IC:\\GTK\\LIB\\GLIB-2.0\\INCLUDE -IC:\\GTK\\LIB\\GTKGLEXT-1.0\\INCLUDE -IC:\\GTK\\INCLUDE\\LIBGLADE-2.0 -IC:\\GTK\\INCLUDE\\LIBXML2 /TcDemand.c /Fobuild\\temp.win-amd64-3.7\\Release\\Demand.obj\n",
      "Demand.c\n"
     ]
    },
    {
     "name": "stdout",
     "output_type": "stream",
     "text": [
      "C:\\Program Files (x86)\\Microsoft Visual Studio\\2019\\Community\\VC\\Tools\\MSVC\\14.27.29110\\bin\\HostX86\\x64\\link.exe /nologo /INCREMENTAL:NO /LTCG /DLL /MANIFEST:EMBED,ID=2 /MANIFESTUAC:NO /LIBPATH:C:\\Users\\Andrew\\anaconda3\\envs\\.venv_cython\\libs /LIBPATH:C:\\Users\\Andrew\\anaconda3\\envs\\.venv_cython\\PCbuild\\amd64 \"/LIBPATH:C:\\Program Files (x86)\\Microsoft Visual Studio\\2019\\Community\\VC\\Tools\\MSVC\\14.27.29110\\ATLMFC\\lib\\x64\" \"/LIBPATH:C:\\Program Files (x86)\\Microsoft Visual Studio\\2019\\Community\\VC\\Tools\\MSVC\\14.27.29110\\lib\\x64\" \"/LIBPATH:C:\\Program Files (x86)\\Windows Kits\\10\\lib\\10.0.19041.0\\ucrt\\x64\" \"/LIBPATH:C:\\Program Files (x86)\\Windows Kits\\10\\lib\\10.0.19041.0\\um\\x64\" /LIBPATH:C:\\GTK\\LIB /EXPORT:PyInit_Demand build\\temp.win-amd64-3.7\\Release\\Demand.obj /OUT:build\\lib.win-amd64-3.7\\Demand.cp37-win_amd64.pyd /IMPLIB:build\\temp.win-amd64-3.7\\Release\\Demand.cp37-win_amd64.lib\n",
      "   Creating library build\\temp.win-amd64-3.7\\Release\\Demand.cp37-win_amd64.lib and object build\\temp.win-amd64-3.7\\Release\\Demand.cp37-win_amd64.exp\n",
      "Generating code\n",
      "Finished generating code\n",
      "copying build\\lib.win-amd64-3.7\\main_cy_numpy_noCheck.cp37-win_amd64.pyd -> \n",
      "copying build\\lib.win-amd64-3.7\\Model.cp37-win_amd64.pyd -> \n",
      "copying build\\lib.win-amd64-3.7\\Reservoir.cp37-win_amd64.pyd -> \n",
      "copying build\\lib.win-amd64-3.7\\Demand.cp37-win_amd64.pyd -> \n",
      "\n",
      "\n",
      "Starting timings\n",
      "50 3 10 py_slow\n",
      "py_slow: answer = 10494.223405436978, time = 2.4713626999999994, speedup = 1.0\n",
      "50 3 10 py_fast\n",
      "py_fast: answer = 9851.320332349133, time = 0.8989603000000002, speedup over py_slow = 2.7491344167256315\n",
      "50 3 10 py_cy\n",
      "py_cy: answer = 9851.320332349133, time = 0.6242601999999997, speedup over py_fast = 1.4400410277637443\n",
      "50 3 10 cy\n",
      "cy: answer = 9851.320332349133, time = 0.34092639999999985, speedup over py_fast = 2.6368163333787016\n",
      "50 3 10 numpy\n",
      "numpy: answer = 9851.320332349133, time = 0.7662825, speedup over py_fast = 1.1731447605811176\n",
      "50 3 10 cy_numpy\n",
      "cy_numpy: answer = 9851.320332349133, time = 0.2560441, speedup over py_fast = 3.510958854353606\n",
      "50 3 10 cy_numpy_noCheck\n",
      "cy_numpy_noCheck: answer = 9851.320332349133, time = 0.2529539999999999, speedup over py_fast = 3.5538489211477207\n"
     ]
    }
   ],
   "source": [
    "! sh time_versions.sh python"
   ]
  }
 ],
 "metadata": {
  "celltoolbar": "Slideshow",
  "kernelspec": {
   "display_name": ".venv_cython",
   "language": "python",
   "name": ".venv_cython"
  },
  "language_info": {
   "codemirror_mode": {
    "name": "ipython",
    "version": 3
   },
   "file_extension": ".py",
   "mimetype": "text/x-python",
   "name": "python",
   "nbconvert_exporter": "python",
   "pygments_lexer": "ipython3",
   "version": "3.7.8"
  }
 },
 "nbformat": 4,
 "nbformat_minor": 4
}
