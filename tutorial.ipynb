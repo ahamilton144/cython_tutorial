{
 "cells": [
  {
   "cell_type": "code",
   "execution_count": 1,
   "metadata": {
    "slideshow": {
     "slide_type": "slide"
    }
   },
   "outputs": [],
   "source": [
    "%matplotlib inline"
   ]
  },
  {
   "cell_type": "markdown",
   "metadata": {
    "slideshow": {
     "slide_type": "slide"
    }
   },
   "source": [
    "# Cython tutorial\n",
    "Andrew Hamilton, September 16, 2020"
   ]
  },
  {
   "cell_type": "markdown",
   "metadata": {
    "slideshow": {
     "slide_type": "fragment"
    }
   },
   "source": [
    "### What is Cython?\n",
    "\n",
    "What we commonly call Python is really two different things: the **language** and the **implementation**. The Python language defines the syntax with which we write code. The most common implementation is CPython (written in C and Python), which compiles valide Python code into bytecode and then **interprets** it. "
   ]
  },
  {
   "cell_type": "markdown",
   "metadata": {
    "slideshow": {
     "slide_type": "fragment"
    }
   },
   "source": [
    "One of the reason's for Python's popularity is its flexibility. I can define a variable ``x = 5``, divide x by 2 to get ``2.5``, and then later set ``x = 'Florida'``. In this sequence, ``x`` will have been typed as an ``int``, ``float``, and then ``str``. Python can do this for us automatically with no problem. It will automatically allocate and deallocate memory, check for type compatibility with mathematical operations, etc. "
   ]
  },
  {
   "cell_type": "markdown",
   "metadata": {
    "slideshow": {
     "slide_type": "fragment"
    }
   },
   "source": [
    "However, this flexibility has a cost, as it requires the interpreter to handle memory, check for type compatibility, and perform a host of other tasks behind the scenes at run time. Lower-level compiled languages like C generally require the user to specify the types for variables, allocate and deallocate memory, etc. This makes them less flexible and more difficult to use, but potentially faster."
   ]
  },
  {
   "cell_type": "markdown",
   "metadata": {
    "slideshow": {
     "slide_type": "fragment"
    }
   },
   "source": [
    "Cython is an attempt to bridge the gap by bringing some of C's qualities to Python. It is technically a separate programming language which is a superset of the Python programming language; Cython code mostly looks like Python code, but it also adds optional C-inspired syntax. Most notably, it allows us to declare **static types** when defining variables/classes/functions."
   ]
  },
  {
   "cell_type": "markdown",
   "metadata": {
    "slideshow": {
     "slide_type": "fragment"
    }
   },
   "source": [
    "Cython can automatically translate our code into C (or C++), along with interface code that allows it to interact with CPython at run time. The C code is then **compiled**, generating CPython **extension modules**. These compiled modules can be imported and used within Python code with significantly lower overhead than the equivalent Python modules."
   ]
  },
  {
   "cell_type": "markdown",
   "metadata": {
    "slideshow": {
     "slide_type": "fragment"
    }
   },
   "source": [
    "From the docs:\n",
    "\n",
    ">The fundamental nature of Cython can be summed up as follows: Cython is Python with C data types.\n",
    "\n",
    ">Cython is Python: Almost any piece of Python code is also valid Cython code. (There are a few Limitations, but this approximation will serve for now.) The Cython compiler will convert it into C code which makes equivalent calls to the Python/C API.\n",
    "\n",
    ">But Cython is much more than that, because parameters and variables can be declared to have C data types. Code which manipulates Python values and C values can be freely intermixed, with conversions occurring automatically wherever possible. Reference count maintenance and error checking of Python operations is also automatic, and the full power of Python’s exception handling facilities, including the try-except and try-finally statements, is available to you – even in the midst of manipulating C data.``"
   ]
  },
  {
   "cell_type": "markdown",
   "metadata": {
    "slideshow": {
     "slide_type": "slide"
    }
   },
   "source": [
    "### Fibonacci example"
   ]
  },
  {
   "cell_type": "markdown",
   "metadata": {
    "slideshow": {
     "slide_type": "fragment"
    }
   },
   "source": [
    "The first example is a simple function that will calculate the n'th Fibonacci number. I have written six different versions of the function."
   ]
  },
  {
   "cell_type": "code",
   "execution_count": 2,
   "metadata": {
    "pycharm": {
     "is_executing": true
    },
    "slideshow": {
     "slide_type": "fragment"
    }
   },
   "outputs": [
    {
     "name": "stdout",
     "output_type": "stream",
     "text": [
      "/home/alh/PycharmProjects/cython_tutorial/fibonacci\n",
      "__pycache__\r\n",
      "build\r\n",
      "fib_cy.c\r\n",
      "fib_cy.cpython-38-x86_64-linux-gnu.so\r\n",
      "fib_cy.html\r\n",
      "fib_cy.pyx\r\n",
      "fib_cy_double.c\r\n",
      "fib_cy_double.cpython-38-x86_64-linux-gnu.so\r\n",
      "fib_cy_double.html\r\n",
      "fib_cy_double.pyx\r\n",
      "fib_py.py\r\n",
      "fib_py_cy.c\r\n",
      "fib_py_cy.cpython-38-x86_64-linux-gnu.so\r\n",
      "fib_py_cy.html\r\n",
      "fib_py_cy.py\r\n",
      "fib_py_cy_double.c\r\n",
      "fib_py_cy_double.cpython-38-x86_64-linux-gnu.so\r\n",
      "fib_py_cy_double.html\r\n",
      "fib_py_cy_double.py\r\n",
      "fib_py_double.py\r\n",
      "setup_fibs.py\r\n",
      "time_versions.py\r\n"
     ]
    }
   ],
   "source": [
    "%cd fibonacci/\n",
    "! ls"
   ]
  },
  {
   "cell_type": "markdown",
   "metadata": {
    "slideshow": {
     "slide_type": "fragment"
    }
   },
   "source": [
    "To start, here is the pure Python version, ``fib_py.py``:"
   ]
  },
  {
   "cell_type": "code",
   "execution_count": 3,
   "metadata": {
    "slideshow": {
     "slide_type": "fragment"
    }
   },
   "outputs": [
    {
     "name": "stdout",
     "output_type": "stream",
     "text": [
      "### Function for finding n'th Fibonacci number. Copied from (Kurt W. Smith, \"Cython\", O'Reilly Media Inc., 2015).\r\n",
      "### Pure Python version\r\n",
      "\r\n",
      "def fib_py(n):\r\n",
      "    a, b = 0, 1\r\n",
      "    for i in range(n - 1):\r\n",
      "        a, b = a + b, a\r\n",
      "    return a\r\n"
     ]
    }
   ],
   "source": [
    "! cat fib_py.py"
   ]
  },
  {
   "cell_type": "code",
   "execution_count": 4,
   "metadata": {
    "slideshow": {
     "slide_type": "fragment"
    }
   },
   "outputs": [
    {
     "data": {
      "text/plain": [
       "514229"
      ]
     },
     "execution_count": 4,
     "metadata": {},
     "output_type": "execute_result"
    }
   ],
   "source": [
    "from fib_py import fib_py\n",
    "fib_py(30)"
   ]
  },
  {
   "cell_type": "markdown",
   "metadata": {
    "slideshow": {
     "slide_type": "fragment"
    }
   },
   "source": [
    "The second version, ``fib_py_cy.py``, is the exact same as the pure Python version, but we will \"Cythonize\" it without making any manual changes."
   ]
  },
  {
   "cell_type": "markdown",
   "metadata": {
    "slideshow": {
     "slide_type": "fragment"
    }
   },
   "source": [
    "The third version, ``fib_cy.py``, is a Cythonic implementation, to which we have added variable types. Note the new file ending, **.pyx**, for Cython source files."
   ]
  },
  {
   "cell_type": "code",
   "execution_count": 5,
   "metadata": {
    "slideshow": {
     "slide_type": "fragment"
    }
   },
   "outputs": [
    {
     "name": "stdout",
     "output_type": "stream",
     "text": [
      "# cython: profile=True\r\n",
      "\r\n",
      "### Function for finding n'th Fibonacci number. Copied from (Kurt W. Smith, \"Cython\", O'Reilly Media Inc., 2015).\r\n",
      "### Typed Cython version\r\n",
      "\r\n",
      "def fib_cy(int n):\r\n",
      "    cdef int a = 0\r\n",
      "    cdef int b = 1\r\n",
      "    cdef int i\r\n",
      "    for i in range(n - 1):\r\n",
      "        a, b = a + b, a\r\n",
      "    return a\r\n"
     ]
    }
   ],
   "source": [
    "! cat fib_cy.pyx"
   ]
  },
  {
   "cell_type": "markdown",
   "metadata": {
    "slideshow": {
     "slide_type": "slide"
    }
   },
   "source": [
    "Because of the importance of types for Cython, I have also included three more files which are equivalent to the first three, except that they use floating point numbers to count. Note that **the Python float class is equivalent to C doubles, not C floats**."
   ]
  },
  {
   "cell_type": "code",
   "execution_count": 6,
   "metadata": {
    "slideshow": {
     "slide_type": "fragment"
    }
   },
   "outputs": [
    {
     "name": "stdout",
     "output_type": "stream",
     "text": [
      "### Function for finding n'th Fibonacci number. Copied from (Kurt W. Smith, \"Cython\", O'Reilly Media Inc., 2015).\r\n",
      "### Pure Python version\r\n",
      "\r\n",
      "def fib_py_double(n):\r\n",
      "    a, b = 0., 1.\r\n",
      "    for i in range(n - 1):\r\n",
      "        a, b = a + b, a\r\n",
      "    return a\r\n"
     ]
    }
   ],
   "source": [
    "! cat fib_py_double.py"
   ]
  },
  {
   "cell_type": "code",
   "execution_count": 7,
   "metadata": {
    "slideshow": {
     "slide_type": "fragment"
    }
   },
   "outputs": [
    {
     "name": "stdout",
     "output_type": "stream",
     "text": [
      "### Function for finding n'th Fibonacci number. Copied from (Kurt W. Smith, \"Cython\", O'Reilly Media Inc., 2015).\r\n",
      "### Typed Cython version\r\n",
      "\r\n",
      "def fib_cy_double(int n):\r\n",
      "    cdef double a = 0.\r\n",
      "    cdef double b = 1.\r\n",
      "    cdef int i\r\n",
      "    for i in range(n - 1):\r\n",
      "        a, b = a + b, a\r\n",
      "    return a\r\n"
     ]
    }
   ],
   "source": [
    "! cat fib_cy_double.pyx"
   ]
  },
  {
   "cell_type": "markdown",
   "metadata": {
    "slideshow": {
     "slide_type": "slide"
    }
   },
   "source": [
    "Now in order to run the Cython code, we first have to **Cythonize it**. This involves two steps: translating our Python-like code into C code, and compiling the C code into an executable. If you want to recompile, first **delete all \\*.so, \\*.pyd, \\*.c, and \\*.html files from the directory**."
   ]
  },
  {
   "cell_type": "code",
   "execution_count": 8,
   "metadata": {},
   "outputs": [],
   "source": [
    "! rm -rf build/ *.so *.pyd *.c *.html"
   ]
  },
  {
   "cell_type": "markdown",
   "metadata": {
    "slideshow": {
     "slide_type": "slide"
    }
   },
   "source": [
    "To Cythonize, we use a setup file:"
   ]
  },
  {
   "cell_type": "code",
   "execution_count": 9,
   "metadata": {
    "slideshow": {
     "slide_type": "fragment"
    }
   },
   "outputs": [
    {
     "name": "stdout",
     "output_type": "stream",
     "text": [
      "from setuptools import setup\r\n",
      "from Cython.Build import cythonize\r\n",
      "\r\n",
      "setup(ext_modules = cythonize(['fib_py_cy.py', 'fib_cy.pyx', 'fib_py_cy_double.py', 'fib_cy_double.pyx'],\r\n",
      "                                annotate=True, language_level=3))\r\n"
     ]
    }
   ],
   "source": [
    "! cat setup_fibs.py"
   ]
  },
  {
   "cell_type": "code",
   "execution_count": 10,
   "metadata": {
    "slideshow": {
     "slide_type": "fragment"
    }
   },
   "outputs": [
    {
     "name": "stdout",
     "output_type": "stream",
     "text": [
      "Compiling fib_py_cy.py because it changed.\n",
      "Compiling fib_cy.pyx because it changed.\n",
      "Compiling fib_py_cy_double.py because it changed.\n",
      "Compiling fib_cy_double.pyx because it changed.\n",
      "[1/4] Cythonizing fib_cy.pyx\n",
      "[2/4] Cythonizing fib_cy_double.pyx\n",
      "[3/4] Cythonizing fib_py_cy.py\n",
      "[4/4] Cythonizing fib_py_cy_double.py\n",
      "running build_ext\n",
      "building 'fib_py_cy' extension\n",
      "creating build\n",
      "creating build/temp.linux-x86_64-3.8\n",
      "x86_64-linux-gnu-gcc -pthread -Wno-unused-result -Wsign-compare -DNDEBUG -g -fwrapv -O2 -Wall -g -fstack-protector-strong -Wformat -Werror=format-security -g -fwrapv -O2 -g -fstack-protector-strong -Wformat -Werror=format-security -Wdate-time -D_FORTIFY_SOURCE=2 -fPIC -I/home/alh/PycharmProjects/.venv_calfews/include -I/usr/include/python3.8 -c fib_py_cy.c -o build/temp.linux-x86_64-3.8/fib_py_cy.o\n",
      "creating build/lib.linux-x86_64-3.8\n",
      "x86_64-linux-gnu-gcc -pthread -shared -Wl,-O1 -Wl,-Bsymbolic-functions -Wl,-Bsymbolic-functions -Wl,-z,relro -g -fwrapv -O2 -Wl,-Bsymbolic-functions -Wl,-z,relro -g -fwrapv -O2 -g -fstack-protector-strong -Wformat -Werror=format-security -Wdate-time -D_FORTIFY_SOURCE=2 build/temp.linux-x86_64-3.8/fib_py_cy.o -o build/lib.linux-x86_64-3.8/fib_py_cy.cpython-38-x86_64-linux-gnu.so\n",
      "building 'fib_cy' extension\n",
      "x86_64-linux-gnu-gcc -pthread -Wno-unused-result -Wsign-compare -DNDEBUG -g -fwrapv -O2 -Wall -g -fstack-protector-strong -Wformat -Werror=format-security -g -fwrapv -O2 -g -fstack-protector-strong -Wformat -Werror=format-security -Wdate-time -D_FORTIFY_SOURCE=2 -fPIC -I/home/alh/PycharmProjects/.venv_calfews/include -I/usr/include/python3.8 -c fib_cy.c -o build/temp.linux-x86_64-3.8/fib_cy.o\n",
      "x86_64-linux-gnu-gcc -pthread -shared -Wl,-O1 -Wl,-Bsymbolic-functions -Wl,-Bsymbolic-functions -Wl,-z,relro -g -fwrapv -O2 -Wl,-Bsymbolic-functions -Wl,-z,relro -g -fwrapv -O2 -g -fstack-protector-strong -Wformat -Werror=format-security -Wdate-time -D_FORTIFY_SOURCE=2 build/temp.linux-x86_64-3.8/fib_cy.o -o build/lib.linux-x86_64-3.8/fib_cy.cpython-38-x86_64-linux-gnu.so\n",
      "building 'fib_py_cy_double' extension\n",
      "x86_64-linux-gnu-gcc -pthread -Wno-unused-result -Wsign-compare -DNDEBUG -g -fwrapv -O2 -Wall -g -fstack-protector-strong -Wformat -Werror=format-security -g -fwrapv -O2 -g -fstack-protector-strong -Wformat -Werror=format-security -Wdate-time -D_FORTIFY_SOURCE=2 -fPIC -I/home/alh/PycharmProjects/.venv_calfews/include -I/usr/include/python3.8 -c fib_py_cy_double.c -o build/temp.linux-x86_64-3.8/fib_py_cy_double.o\n",
      "x86_64-linux-gnu-gcc -pthread -shared -Wl,-O1 -Wl,-Bsymbolic-functions -Wl,-Bsymbolic-functions -Wl,-z,relro -g -fwrapv -O2 -Wl,-Bsymbolic-functions -Wl,-z,relro -g -fwrapv -O2 -g -fstack-protector-strong -Wformat -Werror=format-security -Wdate-time -D_FORTIFY_SOURCE=2 build/temp.linux-x86_64-3.8/fib_py_cy_double.o -o build/lib.linux-x86_64-3.8/fib_py_cy_double.cpython-38-x86_64-linux-gnu.so\n",
      "building 'fib_cy_double' extension\n",
      "x86_64-linux-gnu-gcc -pthread -Wno-unused-result -Wsign-compare -DNDEBUG -g -fwrapv -O2 -Wall -g -fstack-protector-strong -Wformat -Werror=format-security -g -fwrapv -O2 -g -fstack-protector-strong -Wformat -Werror=format-security -Wdate-time -D_FORTIFY_SOURCE=2 -fPIC -I/home/alh/PycharmProjects/.venv_calfews/include -I/usr/include/python3.8 -c fib_cy_double.c -o build/temp.linux-x86_64-3.8/fib_cy_double.o\n",
      "x86_64-linux-gnu-gcc -pthread -shared -Wl,-O1 -Wl,-Bsymbolic-functions -Wl,-Bsymbolic-functions -Wl,-z,relro -g -fwrapv -O2 -Wl,-Bsymbolic-functions -Wl,-z,relro -g -fwrapv -O2 -g -fstack-protector-strong -Wformat -Werror=format-security -Wdate-time -D_FORTIFY_SOURCE=2 build/temp.linux-x86_64-3.8/fib_cy_double.o -o build/lib.linux-x86_64-3.8/fib_cy_double.cpython-38-x86_64-linux-gnu.so\n",
      "copying build/lib.linux-x86_64-3.8/fib_py_cy.cpython-38-x86_64-linux-gnu.so -> \n",
      "copying build/lib.linux-x86_64-3.8/fib_cy.cpython-38-x86_64-linux-gnu.so -> \n",
      "copying build/lib.linux-x86_64-3.8/fib_py_cy_double.cpython-38-x86_64-linux-gnu.so -> \n",
      "copying build/lib.linux-x86_64-3.8/fib_cy_double.cpython-38-x86_64-linux-gnu.so -> \n"
     ]
    }
   ],
   "source": [
    "! python3 setup_fibs.py build_ext --inplace"
   ]
  },
  {
   "cell_type": "markdown",
   "metadata": {
    "slideshow": {
     "slide_type": "slide"
    }
   },
   "source": [
    "Assuming this worked, you will now have the following types of files:"
   ]
  },
  {
   "cell_type": "markdown",
   "metadata": {
    "slideshow": {
     "slide_type": "fragment"
    }
   },
   "source": [
    "1. \\*.c files: The C code created by Cython. This will be very long and very hard to read due to all the work Cython is doing behind the scenes to make our module interfaceable with the CPython interpreter at run time."
   ]
  },
  {
   "cell_type": "markdown",
   "metadata": {
    "slideshow": {
     "slide_type": "fragment"
    }
   },
   "source": [
    "2. \\*.so or \\*.pyd files: Compiled executables from the C code. File ending depends on whether you are using a Linux/OSX (\\*.so) or Windows (\\*.pyd)."
   ]
  },
  {
   "cell_type": "markdown",
   "metadata": {
    "slideshow": {
     "slide_type": "fragment"
    }
   },
   "source": [
    "3. \\*.html files: Annotated versions of our Cython code. Lines will be highlighted yellow based on the extent to which they have to interface with CPython. Lines with no highlighting are executed entirely in C with no interfacing overhead. We want as little yellow as possible."
   ]
  },
  {
   "cell_type": "markdown",
   "metadata": {
    "slideshow": {
     "slide_type": "fragment"
    }
   },
   "source": [
    "Try comparing ``fib_py_cy.html`` to ``fib_cy.html`` to see the impact of adding the type information."
   ]
  },
  {
   "cell_type": "markdown",
   "metadata": {
    "slideshow": {
     "slide_type": "slide"
    }
   },
   "source": [
    "Now let's try running our 6 versions, using the ``time_versions.py`` script:"
   ]
  },
  {
   "cell_type": "code",
   "execution_count": 11,
   "metadata": {
    "slideshow": {
     "slide_type": "fragment"
    }
   },
   "outputs": [
    {
     "name": "stdout",
     "output_type": "stream",
     "text": [
      "from fib_py import fib_py\r\n",
      "from fib_py_cy import fib_py_cy\r\n",
      "from fib_cy import fib_cy\r\n",
      "from fib_py_double import fib_py_double\r\n",
      "from fib_py_cy_double import fib_py_cy_double\r\n",
      "from fib_cy_double import fib_cy_double\r\n",
      "import timeit\r\n",
      "import sys\r\n",
      "\r\n",
      "# pass in Fib number to calculate\r\n",
      "n = int(sys.argv[1])\r\n",
      "\r\n",
      "# time each version\r\n",
      "t1 = min(timeit.repeat(f\"fib_py({n})\", number=100000, repeat = 10, setup=\"from fib_py import fib_py; gc.enable()\"))\r\n",
      "print(f'Pure python: answer = {fib_py(n)}, time = {t1}, speedup = 1.0')\r\n",
      "\r\n",
      "t = min(timeit.repeat(f\"fib_py_cy({n})\", number=100000, repeat = 10, setup=\"from fib_py_cy import fib_py_cy; gc.enable()\"))\r\n",
      "print(f'Cythonized Python: answer = {fib_py_cy(n)}, time = {t}, speedup = {t1 / t}')\r\n",
      "\r\n",
      "t = min(timeit.repeat(f\"fib_cy({n})\", number=100000, repeat = 10, setup=\"from fib_cy import fib_cy; gc.enable()\"))\r\n",
      "print(f'Typed Cython: answer = {fib_cy(n)}, time = {t}, speedup = {t1 / t}')\r\n",
      "\r\n",
      "t = min(timeit.repeat(f\"fib_py_double({n})\", number=100000, repeat = 10, setup=\"from fib_py_double import fib_py_double; gc.enable()\"))\r\n",
      "print(f'Pure Python (double): answer = {fib_py_double(n)}, time = {t}, speedup = {t1 / t}')\r\n",
      "\r\n",
      "t = min(timeit.repeat(f\"fib_py_cy_double({n})\", number=100000, repeat = 10, setup=\"from fib_py_cy_double import fib_py_cy_double; gc.enable()\"))\r\n",
      "print(f'Cythonized Python (double): answer = {fib_py_cy_double(n)}, time = {t}, speedup = {t1 / t}')\r\n",
      "\r\n",
      "t = min(timeit.repeat(f\"fib_cy_double({n})\", number=100000, repeat = 10, setup=\"from fib_cy_double import fib_cy_double; gc.enable()\"))\r\n",
      "print(f'Typed Cython (double): answer = {fib_cy_double(n)}, time = {t}, speedup = {t1 / t}')\r\n"
     ]
    }
   ],
   "source": [
    "! cat time_versions.py"
   ]
  },
  {
   "cell_type": "markdown",
   "metadata": {
    "slideshow": {
     "slide_type": "fragment"
    }
   },
   "source": [
    "We can run this to calculate the 40th Fibonacci number as follows:"
   ]
  },
  {
   "cell_type": "code",
   "execution_count": 12,
   "metadata": {
    "slideshow": {
     "slide_type": "fragment"
    }
   },
   "outputs": [
    {
     "name": "stdout",
     "output_type": "stream",
     "text": [
      "Pure python: answer = 63245986, time = 0.09444800403434783, speedup = 1.0\n",
      "Cythonized Python: answer = 63245986, time = 0.05085833708290011, speedup = 1.8570800669395795\n",
      "Typed Cython: answer = 63245986, time = 0.003605476929806173, speedup = 26.195703334988547\n",
      "Pure Python (double): answer = 63245986.0, time = 0.0828114019241184, speedup = 1.140519322700179\n",
      "Cythonized Python (double): answer = 63245986.0, time = 0.019675142015330493, speedup = 4.80037216304491\n",
      "Typed Cython (double): answer = 63245986.0, time = 0.003574530011974275, speedup = 26.422495745722543\n"
     ]
    }
   ],
   "source": [
    "! python3 time_versions.py 40"
   ]
  },
  {
   "cell_type": "markdown",
   "metadata": {
    "slideshow": {
     "slide_type": "fragment"
    }
   },
   "source": [
    "For the integer implementation, **Cython gives us a \\~2x speedup without adding any type info, and \\~26x speedup for the typed version! The double implementation gives a larger speedup (\\~4x) for the untyped version and a smaller speedup (\\~24x).** These are very large gains for very little work. "
   ]
  },
  {
   "cell_type": "markdown",
   "metadata": {
    "slideshow": {
     "slide_type": "fragment"
    }
   },
   "source": [
    "If we try to calculate a larger Fibonacci number, we see why the integer/double distinction is important:"
   ]
  },
  {
   "cell_type": "code",
   "execution_count": 13,
   "metadata": {
    "slideshow": {
     "slide_type": "fragment"
    }
   },
   "outputs": [
    {
     "name": "stdout",
     "output_type": "stream",
     "text": [
      "Pure python: answer = 7778742049, time = 0.12348907301202416, speedup = 1.0\n",
      "Cythonized Python: answer = 7778742049, time = 0.06440574501175433, speedup = 1.917361145181798\n",
      "Typed Cython: answer = -811192543, time = 0.004021260072477162, speedup = 30.709049100610116\n",
      "Pure Python (double): answer = 7778742049.0, time = 0.1030255239456892, speedup = 1.198626013075386\n",
      "Cythonized Python (double): answer = 7778742049.0, time = 0.022093447973020375, speedup = 5.589397959196954\n",
      "Typed Cython (double): answer = 7778742049.0, time = 0.004518333938904107, speedup = 27.33066539167215\n"
     ]
    }
   ],
   "source": [
    "! python3 time_versions.py 50"
   ]
  },
  {
   "cell_type": "markdown",
   "metadata": {
    "slideshow": {
     "slide_type": "fragment"
    }
   },
   "source": [
    "**Python integers can be unlimited size, while C integers can overflow if they get too big**. Our typed Cython integer version is wrong here because of overflow issues. This shows that the speed advantages of Cython are not free - you do lose some of the flexibility & safety of Python. We could use ``long`` instead of ``int`` to get a larger overflow threshold, but the fundamental problem would remain. We may want to introduce some manual checks into our function to make sure we don't enter an argument that is large enough to cause overflow."
   ]
  },
  {
   "cell_type": "markdown",
   "metadata": {
    "slideshow": {
     "slide_type": "slide"
    }
   },
   "source": [
    "### Reservoir simulation example\n",
    "The Fibonacci example is a prime candidate for Cythonization: a simple function with a tight numerical loop. Once typed, this requires virtually no interaction with the CPython interpreter. "
   ]
  },
  {
   "cell_type": "markdown",
   "metadata": {
    "slideshow": {
     "slide_type": "slide"
    }
   },
   "source": [
    "However, many research models are more complex than this, with fewer sequential computations and more data storage & retrieval. This is especially true of object-oriented models. Such models require a bit more work to integrate with Cython, and the potential gains are lower. However, it can definitely still be worthwhile."
   ]
  },
  {
   "cell_type": "markdown",
   "metadata": {
    "slideshow": {
     "slide_type": "slide"
    }
   },
   "source": [
    "The second example is a simple reservoir operations model, which has an object-oriented structure that will be familiar to most water resources modelers. We have a ``Model`` class, a ``Reservoir`` class, and a ``Demand`` class. "
   ]
  },
  {
   "cell_type": "code",
   "execution_count": 14,
   "metadata": {
    "slideshow": {
     "slide_type": "fragment"
    }
   },
   "outputs": [
    {
     "name": "stdout",
     "output_type": "stream",
     "text": [
      "/home/alh/PycharmProjects/cython_tutorial/reservoir_sim/py_fast\n",
      "Demand.py  Model.py  Reservoir.py  __pycache__\tpy_fast_time.txt\r\n"
     ]
    }
   ],
   "source": [
    "%cd ../reservoir_sim/py_fast\n",
    "! ls"
   ]
  },
  {
   "cell_type": "markdown",
   "metadata": {
    "slideshow": {
     "slide_type": "fragment"
    }
   },
   "source": [
    "The Model class will set up and run a simulation model with two Reservoir objects, and each Reservoir object will have a Demand object. Every day, we will generate random inflows and demands (based on a seasonal trend plus noise), and make water deliveries and reservoir releases based on seasonal minimum flow requirements. "
   ]
  },
  {
   "cell_type": "code",
   "execution_count": 15,
   "metadata": {
    "slideshow": {
     "slide_type": "fragment"
    }
   },
   "outputs": [
    {
     "name": "stdout",
     "output_type": "stream",
     "text": [
      "### Demand class - pure Python\r\n",
      "from random import gauss\r\n",
      "from math import pi, sin\r\n",
      "\r\n",
      "class Demand():\r\n",
      "  def __init__(self, name, demand_params):\r\n",
      "    self.name = name\r\n",
      "    # amplitude, phase, shift, & noise std for sine wave of demands\r\n",
      "    self.demand_amp, self.demand_phase, self.demand_shift, self.demand_noise = demand_params\r\n",
      "    # save 2pi/365 to save conversion time\r\n",
      "    self.days_to_radians = 2. * pi / 365.\r\n",
      "\r\n",
      "  ### demand function\r\n",
      "  def demand_t(self, t):\r\n",
      "    noise = gauss(0., self.demand_noise)\r\n",
      "    demand_t = self.demand_amp * sin((t - self.demand_phase)  * self.days_to_radians) + self.demand_shift + noise\r\n",
      "    return demand_t\r\n",
      "\r\n"
     ]
    }
   ],
   "source": [
    "! cat Demand.py"
   ]
  },
  {
   "cell_type": "code",
   "execution_count": 16,
   "metadata": {
    "slideshow": {
     "slide_type": "fragment"
    }
   },
   "outputs": [
    {
     "name": "stdout",
     "output_type": "stream",
     "text": [
      "### Reservoir class - pure Python\r\n",
      "from random import gauss\r\n",
      "from math import pi, sin\r\n",
      "from Demand import Demand\r\n",
      "\r\n",
      "class Reservoir():\r\n",
      "  def __init__(self, name, inflow_params, min_flow_params, demand_params, storage_params):\r\n",
      "    self.name = name\r\n",
      "    # amplitude, phase, shift, & noise std for sine wave of inflows\r\n",
      "    self.inflow_amp, self.inflow_phase, self.inflow_shift, self.inflow_noise = inflow_params\r\n",
      "    # amplitude, phase, and shift for sine wave of minimum flows\r\n",
      "    self.min_flow_amp, self.min_flow_phase, self.min_flow_shift = min_flow_params\r\n",
      "    # reservoir capacity and initial storage\r\n",
      "    self.capacity, self.storage = storage_params\r\n",
      "    # set up demand object\r\n",
      "    self.demand = Demand(name, demand_params)\r\n",
      "    # save 2pi/365 to save conversion time\r\n",
      "    self.days_to_radians = 2. * pi / 365.\r\n",
      "\r\n",
      "  ### inflow function\r\n",
      "  def inflow_t(self, t):\r\n",
      "    noise = gauss(0., self.inflow_noise)\r\n",
      "    inflow_t = self.inflow_amp * sin((t - self.inflow_phase)  * self.days_to_radians) + self.inflow_shift + noise\r\n",
      "    return inflow_t\r\n",
      "\r\n",
      "  ### min flow function\r\n",
      "  def min_flow_t(self, t):\r\n",
      "    min_flow_t = self.min_flow_amp * sin((t - self.min_flow_phase)  * self.days_to_radians) + self.min_flow_shift\r\n",
      "    return min_flow_t\r\n",
      "\r\n",
      "  ### step reservoir another day\r\n",
      "  def step(self, t, upstream_release):\r\n",
      "    inflow = self.inflow_t(t)\r\n",
      "    min_flow = self.min_flow_t(t)\r\n",
      "    demand = self.demand.demand_t(t)\r\n",
      "    \r\n",
      "    # first assume release & delivery meet min_flow and demand exactly\r\n",
      "    release = min_flow\r\n",
      "    delivery = demand\r\n",
      "    self.storage += inflow + upstream_release - release - demand\r\n",
      "\r\n",
      "    # check if storage overflow\r\n",
      "    if self.storage > self.capacity:\r\n",
      "      release += self.storage - self.capacity\r\n",
      "      self.storage = self.capacity\r\n",
      "\r\n",
      "    # check if storage went negative. if so, curtail demand first, then env flows\r\n",
      "    elif self.storage < 0:\r\n",
      "      if delivery > (-self.storage):\r\n",
      "        delivery += self.storage\r\n",
      "        self.storage = 0.\r\n",
      "      else:\r\n",
      "        self.storage += delivery\r\n",
      "        delivery = 0\r\n",
      "        if release > (-self.storage):\r\n",
      "          release += self.storage\r\n",
      "          self.storage = 0\r\n",
      "        else:\r\n",
      "          print('This should not be happening')\r\n",
      "    \r\n",
      "    return (inflow, upstream_release, min_flow, demand, release, delivery, self.storage)\r\n",
      "        \r\n",
      "\r\n",
      "\r\n",
      "    "
     ]
    }
   ],
   "source": [
    "! cat Reservoir.py"
   ]
  },
  {
   "cell_type": "code",
   "execution_count": 17,
   "metadata": {
    "slideshow": {
     "slide_type": "fragment"
    }
   },
   "outputs": [
    {
     "name": "stdout",
     "output_type": "stream",
     "text": [
      "### Model class for running simulation\r\n",
      "import matplotlib.pyplot as plt\r\n",
      "import random\r\n",
      "import numpy as np\r\n",
      "from Reservoir import Reservoir\r\n",
      "\r\n",
      "class Model():\r\n",
      "  def __init__(self, years, plot, seed):\r\n",
      "    # length of simulation (no leap years)\r\n",
      "    self.years = years\r\n",
      "    self.days = 365 * self.years\r\n",
      "    # boolean for whether to plot\r\n",
      "    self.plot = plot\r\n",
      "    # random seed\r\n",
      "    random.seed(seed)\r\n",
      "\r\n",
      "    ### set up upper reservoir\r\n",
      "    # inflow params in terms of sinusoid, (amplitude, phase, shift, noise). units = AF/day\r\n",
      "    inflow_params = (300., 0., 500., 20.)\r\n",
      "    # min flow params in terms of sinusoid, (amplitude, phase, shift). units = AF/day\r\n",
      "    min_flow_params = (200., 122., 300.)\r\n",
      "    # demand params in terms of sinusoid, (amplitude, phase, shift, noise). units = AF/day\r\n",
      "    demand_params = (300., 163., 600., 30.)\r\n",
      "    # storage params (capacity, starting storage). units = AF\r\n",
      "    storage_params = (500000., 250000.)\r\n",
      "    # initialize upper reservoir\r\n",
      "    self.reservoir_upper = Reservoir('upper', inflow_params, min_flow_params, demand_params, storage_params)\r\n",
      "\r\n",
      "    ### set up lower reservoir\r\n",
      "    # inflow params in terms of sinusoid, (amplitude, phase, shift, noise). units = AF/day\r\n",
      "    inflow_params = (200., 30., 600., 100.)\r\n",
      "    # min flow params in terms of sinusoid, (amplitude, phase, shift). units = AF/day\r\n",
      "    min_flow_params = (100., 91., 400.)\r\n",
      "    # demand params in terms of sinusoid, (amplitude, phase, shift, noise). units = AF/day\r\n",
      "    demand_params = (100., 152., 300., 10.)\r\n",
      "    # storage params (capacity, starting storage). units = AF\r\n",
      "    storage_params = (20000., 15000.)\r\n",
      "    # initialize lower reservoir\r\n",
      "    self.reservoir_lower = Reservoir('lower', inflow_params, min_flow_params, demand_params, storage_params)\r\n",
      "\r\n",
      "    ### set up data storage\r\n",
      "    self.reservoir_list = [self.reservoir_upper, self.reservoir_lower]\r\n",
      "    self.output = {}\r\n",
      "    for reservoir in self.reservoir_list:\r\n",
      "      self.output[reservoir.name] = {}\r\n",
      "      self.output[reservoir.name]['inflow'] = []\r\n",
      "      self.output[reservoir.name]['upstream_release'] = []\r\n",
      "      self.output[reservoir.name]['min_flow'] = []\r\n",
      "      self.output[reservoir.name]['demand'] = []\r\n",
      "      self.output[reservoir.name]['release'] = []\r\n",
      "      self.output[reservoir.name]['delivery'] = []\r\n",
      "      self.output[reservoir.name]['storage'] = [reservoir.storage]\r\n",
      "\r\n",
      "  def run(self):\r\n",
      "    for t in range(self.days):\r\n",
      "      # step upper\r\n",
      "      (inflow, upstream_release, min_flow, demand, release, delivery, storage) = self.reservoir_upper.step(t, 0.)\r\n",
      "      self.output['upper']['inflow'].append(inflow)\r\n",
      "      self.output['upper']['upstream_release'].append(upstream_release)\r\n",
      "      self.output['upper']['min_flow'].append(min_flow)\r\n",
      "      self.output['upper']['demand'].append(demand)\r\n",
      "      self.output['upper']['release'].append(release)\r\n",
      "      self.output['upper']['delivery'].append(delivery)\r\n",
      "      self.output['upper']['storage'].append(storage)\r\n",
      "\r\n",
      "      (inflow, upstream_release, min_flow, demand, release, delivery, storage) = self.reservoir_lower.step(t, release)\r\n",
      "      self.output['lower']['inflow'].append(inflow)\r\n",
      "      self.output['lower']['upstream_release'].append(upstream_release)\r\n",
      "      self.output['lower']['min_flow'].append(min_flow)\r\n",
      "      self.output['lower']['demand'].append(demand)\r\n",
      "      self.output['lower']['release'].append(release)\r\n",
      "      self.output['lower']['delivery'].append(delivery)\r\n",
      "      self.output['lower']['storage'].append(storage)\r\n",
      "\r\n",
      "    # return total storage last time step to make sure versions are equivalent\r\n",
      "    return self.output['upper']['storage'][-1] + self.output['lower']['storage'][-1]\r\n",
      "\r\n",
      "  def plot_results(self):\r\n",
      "    t = np.arange(self.days)\r\n",
      "    t_storage = np.arange(-1, self.days)\r\n",
      "\r\n",
      "    fig, ((ax11, ax12, ax13, ax14), (ax21, ax22, ax23, ax24)) = plt.subplots(2, 4, figsize=(12,6))\r\n",
      "    # make a little extra space between the subplots\r\n",
      "    fig.subplots_adjust(hspace=0.2)\r\n",
      "    fig.subplots_adjust(wspace=0.4)\r\n",
      "    ax11.plot(t, self.output['upper']['inflow'], c='indianred')\r\n",
      "    ax11.plot(t, np.array(self.output['upper']['inflow']) + np.array(self.output['upper']['upstream_release']), c='k')\r\n",
      "    ax11.legend(['Inflow', 'w/ UpRel'])\r\n",
      "    ax11.set_ylabel('Upper reservoir')\r\n",
      "    ax12.plot(t, self.output['upper']['demand'], c='indianred')\r\n",
      "    ax12.plot(t, self.output['upper']['delivery'], c='k')\r\n",
      "    ax12.legend(['Demand', 'Deliv'])\r\n",
      "    ax13.plot(t, self.output['upper']['min_flow'], c='indianred')\r\n",
      "    ax13.plot(t, self.output['upper']['release'], c='k')\r\n",
      "    ax13.legend(['MinFl', 'Release'])\r\n",
      "    ax14.plot(t_storage, self.output['upper']['storage'], c='k')\r\n",
      "    ax14.legend(['Storage'])\r\n",
      "\r\n",
      "    ax21.plot(t, self.output['lower']['inflow'], c='indianred')\r\n",
      "    ax21.plot(t, np.array(self.output['lower']['inflow']) + np.array(self.output['lower']['upstream_release']), c='k')\r\n",
      "    ax21.legend(['Inflow', 'w/ UpRel'])\r\n",
      "    ax21.set_ylabel('Lower reservoir')\r\n",
      "    ax22.plot(t, self.output['lower']['demand'], c='indianred')\r\n",
      "    ax22.plot(t, self.output['lower']['delivery'], c='k')\r\n",
      "    ax22.legend(['Demand', 'Deliv'])\r\n",
      "    ax23.plot(t, self.output['lower']['min_flow'], c='indianred')\r\n",
      "    ax23.plot(t, self.output['lower']['release'], c='k')\r\n",
      "    ax23.legend(['MinFl', 'Release'])\r\n",
      "    ax24.plot(t_storage, self.output['lower']['storage'], c='k')\r\n",
      "    ax24.legend(['Storage'])\r\n",
      "\r\n",
      "    plt.show()\r\n",
      "\r\n",
      "\r\n",
      "\r\n"
     ]
    }
   ],
   "source": [
    "! cat Model.py"
   ]
  },
  {
   "cell_type": "markdown",
   "metadata": {
    "slideshow": {
     "slide_type": "slide"
    }
   },
   "source": [
    "The main function runs the simulation."
   ]
  },
  {
   "cell_type": "code",
   "execution_count": 18,
   "metadata": {
    "slideshow": {
     "slide_type": "fragment"
    }
   },
   "outputs": [
    {
     "name": "stdout",
     "output_type": "stream",
     "text": [
      "12066.330987273821\n"
     ]
    },
    {
     "data": {
      "image/png": "[encoded data removed]",
      "text/plain": [
       "<Figure size 864x432 with 8 Axes>"
      ]
     },
     "metadata": {
      "needs_background": "light"
     },
     "output_type": "display_data"
    }
   ],
   "source": [
    "from Model import Model\n",
    "\n",
    "# initialize model\n",
    "model = Model(years = 5, plot = True, seed = 101)\n",
    "\n",
    "# run simulation\n",
    "tot_storage = model.run()\n",
    "print(tot_storage)\n",
    "\n",
    "# plot results\n",
    "if model.plot:\n",
    "  model.plot_results()"
   ]
  },
  {
   "cell_type": "code",
   "execution_count": 19,
   "metadata": {},
   "outputs": [
    {
     "name": "stdout",
     "output_type": "stream",
     "text": [
      "/home/alh/PycharmProjects/cython_tutorial/reservoir_sim\n"
     ]
    }
   ],
   "source": [
    "%cd ../"
   ]
  },
  {
   "cell_type": "markdown",
   "metadata": {
    "slideshow": {
     "slide_type": "fragment"
    }
   },
   "source": [
    "I have written 7 different versions of the model.\n",
    "\n",
    "1. py_slow: This was my first attempt at the simulation model, which is relatively slow due to the use of NumPy functions (random.normal, sin, pi) as opposed to the simpler versions in the random and math modules. I left this in to show that often the bottlenecks are simple things that can be fixed with purely Pythonic solutions - fixing these small things made a larger difference for this code than any Cythonization."
   ]
  },
  {
   "cell_type": "markdown",
   "metadata": {
    "slideshow": {
     "slide_type": "fragment"
    }
   },
   "source": [
    "2. py_fast: Pure Python version after switching modules as described above."
   ]
  },
  {
   "cell_type": "markdown",
   "metadata": {
    "slideshow": {
     "slide_type": "fragment"
    }
   },
   "source": [
    "3. py_cy: Same code as #2, but we will Cythonize the code without making any other changes."
   ]
  },
  {
   "cell_type": "markdown",
   "metadata": {
    "slideshow": {
     "slide_type": "fragment"
    }
   },
   "source": [
    "4. numpy: Same as #2, but using NumPy rather than dictionaries/lists for storing output data"
   ]
  },
  {
   "cell_type": "markdown",
   "metadata": {
    "slideshow": {
     "slide_type": "fragment"
    }
   },
   "source": [
    "5. cy: (Mostly) typed Cythonic implementation."
   ]
  },
  {
   "cell_type": "markdown",
   "metadata": {
    "slideshow": {
     "slide_type": "fragment"
    }
   },
   "source": [
    "6. cy_numpy: Same as #5, but using NumPy plus memoryviews for storing output data."
   ]
  },
  {
   "cell_type": "markdown",
   "metadata": {
    "slideshow": {
     "slide_type": "fragment"
    }
   },
   "source": [
    "7. cy_numpy_noCheck: Same as #6, but with bounds checking and wraparounds disabled strategically."
   ]
  },
  {
   "cell_type": "markdown",
   "metadata": {
    "slideshow": {
     "slide_type": "fragment"
    }
   },
   "source": [
    "You can Cythonize all relevant files and time all six versions using the command ``sh time_versions.sh python`` (or ``python3``). "
   ]
  },
  {
   "cell_type": "code",
   "execution_count": 20,
   "metadata": {
    "slideshow": {
     "slide_type": "fragment"
    }
   },
   "outputs": [
    {
     "name": "stdout",
     "output_type": "stream",
     "text": [
      "years=50\r\n",
      "trials=4\r\n",
      "repeat=20\r\n",
      "\r\n",
      "for dir in 'py_cy' 'cy' 'cy_numpy' 'cy_numpy_reservoir' 'cy_numpy_noCheck'\r\n",
      "\r\n",
      "do\r\n",
      "\tcd $dir\r\n",
      "\tpython3 setup.py build_ext --inplace\r\n",
      "\tcd ../\r\n",
      "done\r\n",
      "echo \r\n",
      "echo \r\n",
      "echo 'Starting timings'\r\n",
      "for dir in 'py_slow' 'py_fast' 'py_numpy' 'py_numpy_reservoir' 'py_cy' 'cy' 'cy_numpy' 'cy_numpy_reservoir' 'cy_numpy_noCheck'\r\n",
      "do\r\n",
      "\tcd $dir\r\n",
      "\tcp ../time_sim.py .\r\n",
      "\tpython3 time_sim.py $years $trials $repeat $dir\r\n",
      "\trm time_sim.py\r\n",
      "\tcd ../\r\n",
      "done\r\n"
     ]
    }
   ],
   "source": [
    "! cat time_versions.sh"
   ]
  },
  {
   "cell_type": "code",
   "execution_count": 21,
   "metadata": {
    "slideshow": {
     "slide_type": "fragment"
    }
   },
   "outputs": [
    {
     "name": "stdout",
     "output_type": "stream",
     "text": [
      "rm: cannot remove '*/*.pyd': No such file or directory\r\n"
     ]
    }
   ],
   "source": [
    "# delete old builds so we can re-cythonize\n",
    "! rm -r */build/ */*.so */*.pyd */*.c */*.html"
   ]
  },
  {
   "cell_type": "code",
   "execution_count": 22,
   "metadata": {
    "scrolled": true,
    "slideshow": {
     "slide_type": "fragment"
    }
   },
   "outputs": [
    {
     "name": "stdout",
     "output_type": "stream",
     "text": [
      "Compiling Model.py because it changed.\n",
      "Compiling Reservoir.py because it changed.\n",
      "Compiling Demand.py because it changed.\n",
      "[1/3] Cythonizing Demand.py\n",
      "[2/3] Cythonizing Model.py\n",
      "[3/3] Cythonizing Reservoir.py\n",
      "running build_ext\n",
      "building 'Model' extension\n",
      "creating build\n",
      "creating build/temp.linux-x86_64-3.8\n",
      "x86_64-linux-gnu-gcc -pthread -Wno-unused-result -Wsign-compare -DNDEBUG -g -fwrapv -O2 -Wall -g -fstack-protector-strong -Wformat -Werror=format-security -g -fwrapv -O2 -g -fstack-protector-strong -Wformat -Werror=format-security -Wdate-time -D_FORTIFY_SOURCE=2 -fPIC -I/home/alh/PycharmProjects/.venv_calfews/include -I/usr/include/python3.8 -c Model.c -o build/temp.linux-x86_64-3.8/Model.o\n",
      "creating build/lib.linux-x86_64-3.8\n",
      "x86_64-linux-gnu-gcc -pthread -shared -Wl,-O1 -Wl,-Bsymbolic-functions -Wl,-Bsymbolic-functions -Wl,-z,relro -g -fwrapv -O2 -Wl,-Bsymbolic-functions -Wl,-z,relro -g -fwrapv -O2 -g -fstack-protector-strong -Wformat -Werror=format-security -Wdate-time -D_FORTIFY_SOURCE=2 build/temp.linux-x86_64-3.8/Model.o -o build/lib.linux-x86_64-3.8/Model.cpython-38-x86_64-linux-gnu.so\n",
      "building 'Reservoir' extension\n",
      "x86_64-linux-gnu-gcc -pthread -Wno-unused-result -Wsign-compare -DNDEBUG -g -fwrapv -O2 -Wall -g -fstack-protector-strong -Wformat -Werror=format-security -g -fwrapv -O2 -g -fstack-protector-strong -Wformat -Werror=format-security -Wdate-time -D_FORTIFY_SOURCE=2 -fPIC -I/home/alh/PycharmProjects/.venv_calfews/include -I/usr/include/python3.8 -c Reservoir.c -o build/temp.linux-x86_64-3.8/Reservoir.o\n",
      "x86_64-linux-gnu-gcc -pthread -shared -Wl,-O1 -Wl,-Bsymbolic-functions -Wl,-Bsymbolic-functions -Wl,-z,relro -g -fwrapv -O2 -Wl,-Bsymbolic-functions -Wl,-z,relro -g -fwrapv -O2 -g -fstack-protector-strong -Wformat -Werror=format-security -Wdate-time -D_FORTIFY_SOURCE=2 build/temp.linux-x86_64-3.8/Reservoir.o -o build/lib.linux-x86_64-3.8/Reservoir.cpython-38-x86_64-linux-gnu.so\n",
      "building 'Demand' extension\n",
      "x86_64-linux-gnu-gcc -pthread -Wno-unused-result -Wsign-compare -DNDEBUG -g -fwrapv -O2 -Wall -g -fstack-protector-strong -Wformat -Werror=format-security -g -fwrapv -O2 -g -fstack-protector-strong -Wformat -Werror=format-security -Wdate-time -D_FORTIFY_SOURCE=2 -fPIC -I/home/alh/PycharmProjects/.venv_calfews/include -I/usr/include/python3.8 -c Demand.c -o build/temp.linux-x86_64-3.8/Demand.o\n",
      "x86_64-linux-gnu-gcc -pthread -shared -Wl,-O1 -Wl,-Bsymbolic-functions -Wl,-Bsymbolic-functions -Wl,-z,relro -g -fwrapv -O2 -Wl,-Bsymbolic-functions -Wl,-z,relro -g -fwrapv -O2 -g -fstack-protector-strong -Wformat -Werror=format-security -Wdate-time -D_FORTIFY_SOURCE=2 build/temp.linux-x86_64-3.8/Demand.o -o build/lib.linux-x86_64-3.8/Demand.cpython-38-x86_64-linux-gnu.so\n",
      "copying build/lib.linux-x86_64-3.8/Model.cpython-38-x86_64-linux-gnu.so -> \n",
      "copying build/lib.linux-x86_64-3.8/Reservoir.cpython-38-x86_64-linux-gnu.so -> \n",
      "copying build/lib.linux-x86_64-3.8/Demand.cpython-38-x86_64-linux-gnu.so -> \n",
      "Compiling Demand.pyx because it changed.\n",
      "Compiling Model.pyx because it changed.\n",
      "Compiling Reservoir.pyx because it changed.\n",
      "Compiling main.pyx because it changed.\n",
      "[1/4] Cythonizing Demand.pyx\n",
      "[2/4] Cythonizing Model.pyx\n",
      "[3/4] Cythonizing Reservoir.pyx\n",
      "[4/4] Cythonizing main.pyx\n",
      "running build_ext\n",
      "building 'Demand' extension\n",
      "creating build\n",
      "creating build/temp.linux-x86_64-3.8\n",
      "x86_64-linux-gnu-gcc -pthread -Wno-unused-result -Wsign-compare -DNDEBUG -g -fwrapv -O2 -Wall -g -fstack-protector-strong -Wformat -Werror=format-security -g -fwrapv -O2 -g -fstack-protector-strong -Wformat -Werror=format-security -Wdate-time -D_FORTIFY_SOURCE=2 -fPIC -I/home/alh/PycharmProjects/.venv_calfews/include -I/usr/include/python3.8 -c Demand.c -o build/temp.linux-x86_64-3.8/Demand.o\n",
      "creating build/lib.linux-x86_64-3.8\n",
      "x86_64-linux-gnu-gcc -pthread -shared -Wl,-O1 -Wl,-Bsymbolic-functions -Wl,-Bsymbolic-functions -Wl,-z,relro -g -fwrapv -O2 -Wl,-Bsymbolic-functions -Wl,-z,relro -g -fwrapv -O2 -g -fstack-protector-strong -Wformat -Werror=format-security -Wdate-time -D_FORTIFY_SOURCE=2 build/temp.linux-x86_64-3.8/Demand.o -o build/lib.linux-x86_64-3.8/Demand.cpython-38-x86_64-linux-gnu.so\n",
      "building 'Model' extension\n",
      "x86_64-linux-gnu-gcc -pthread -Wno-unused-result -Wsign-compare -DNDEBUG -g -fwrapv -O2 -Wall -g -fstack-protector-strong -Wformat -Werror=format-security -g -fwrapv -O2 -g -fstack-protector-strong -Wformat -Werror=format-security -Wdate-time -D_FORTIFY_SOURCE=2 -fPIC -I/home/alh/PycharmProjects/.venv_calfews/include -I/usr/include/python3.8 -c Model.c -o build/temp.linux-x86_64-3.8/Model.o\n",
      "x86_64-linux-gnu-gcc -pthread -shared -Wl,-O1 -Wl,-Bsymbolic-functions -Wl,-Bsymbolic-functions -Wl,-z,relro -g -fwrapv -O2 -Wl,-Bsymbolic-functions -Wl,-z,relro -g -fwrapv -O2 -g -fstack-protector-strong -Wformat -Werror=format-security -Wdate-time -D_FORTIFY_SOURCE=2 build/temp.linux-x86_64-3.8/Model.o -o build/lib.linux-x86_64-3.8/Model.cpython-38-x86_64-linux-gnu.so\n",
      "building 'Reservoir' extension\n",
      "x86_64-linux-gnu-gcc -pthread -Wno-unused-result -Wsign-compare -DNDEBUG -g -fwrapv -O2 -Wall -g -fstack-protector-strong -Wformat -Werror=format-security -g -fwrapv -O2 -g -fstack-protector-strong -Wformat -Werror=format-security -Wdate-time -D_FORTIFY_SOURCE=2 -fPIC -I/home/alh/PycharmProjects/.venv_calfews/include -I/usr/include/python3.8 -c Reservoir.c -o build/temp.linux-x86_64-3.8/Reservoir.o\n",
      "x86_64-linux-gnu-gcc -pthread -shared -Wl,-O1 -Wl,-Bsymbolic-functions -Wl,-Bsymbolic-functions -Wl,-z,relro -g -fwrapv -O2 -Wl,-Bsymbolic-functions -Wl,-z,relro -g -fwrapv -O2 -g -fstack-protector-strong -Wformat -Werror=format-security -Wdate-time -D_FORTIFY_SOURCE=2 build/temp.linux-x86_64-3.8/Reservoir.o -o build/lib.linux-x86_64-3.8/Reservoir.cpython-38-x86_64-linux-gnu.so\n",
      "building 'main' extension\n",
      "x86_64-linux-gnu-gcc -pthread -Wno-unused-result -Wsign-compare -DNDEBUG -g -fwrapv -O2 -Wall -g -fstack-protector-strong -Wformat -Werror=format-security -g -fwrapv -O2 -g -fstack-protector-strong -Wformat -Werror=format-security -Wdate-time -D_FORTIFY_SOURCE=2 -fPIC -I/home/alh/PycharmProjects/.venv_calfews/include -I/usr/include/python3.8 -c main.c -o build/temp.linux-x86_64-3.8/main.o\n",
      "x86_64-linux-gnu-gcc -pthread -shared -Wl,-O1 -Wl,-Bsymbolic-functions -Wl,-Bsymbolic-functions -Wl,-z,relro -g -fwrapv -O2 -Wl,-Bsymbolic-functions -Wl,-z,relro -g -fwrapv -O2 -g -fstack-protector-strong -Wformat -Werror=format-security -Wdate-time -D_FORTIFY_SOURCE=2 build/temp.linux-x86_64-3.8/main.o -o build/lib.linux-x86_64-3.8/main.cpython-38-x86_64-linux-gnu.so\n",
      "copying build/lib.linux-x86_64-3.8/Demand.cpython-38-x86_64-linux-gnu.so -> \n",
      "copying build/lib.linux-x86_64-3.8/Model.cpython-38-x86_64-linux-gnu.so -> \n",
      "copying build/lib.linux-x86_64-3.8/Reservoir.cpython-38-x86_64-linux-gnu.so -> \n",
      "copying build/lib.linux-x86_64-3.8/main.cpython-38-x86_64-linux-gnu.so -> \n",
      "Compiling Demand.pyx because it changed.\n",
      "Compiling Model.pyx because it changed.\n",
      "Compiling Reservoir.pyx because it changed.\n",
      "Compiling main.pyx because it changed.\n",
      "[1/4] Cythonizing Demand.pyx\n",
      "[2/4] Cythonizing Model.pyx\n",
      "[3/4] Cythonizing Reservoir.pyx\n",
      "[4/4] Cythonizing main.pyx\n",
      "running build_ext\n",
      "building 'Demand' extension\n",
      "creating build\n",
      "creating build/temp.linux-x86_64-3.8\n",
      "x86_64-linux-gnu-gcc -pthread -Wno-unused-result -Wsign-compare -DNDEBUG -g -fwrapv -O2 -Wall -g -fstack-protector-strong -Wformat -Werror=format-security -g -fwrapv -O2 -g -fstack-protector-strong -Wformat -Werror=format-security -Wdate-time -D_FORTIFY_SOURCE=2 -fPIC -I/home/alh/PycharmProjects/.venv_calfews/include -I/usr/include/python3.8 -c Demand.c -o build/temp.linux-x86_64-3.8/Demand.o\n",
      "creating build/lib.linux-x86_64-3.8\n",
      "x86_64-linux-gnu-gcc -pthread -shared -Wl,-O1 -Wl,-Bsymbolic-functions -Wl,-Bsymbolic-functions -Wl,-z,relro -g -fwrapv -O2 -Wl,-Bsymbolic-functions -Wl,-z,relro -g -fwrapv -O2 -g -fstack-protector-strong -Wformat -Werror=format-security -Wdate-time -D_FORTIFY_SOURCE=2 build/temp.linux-x86_64-3.8/Demand.o -o build/lib.linux-x86_64-3.8/Demand.cpython-38-x86_64-linux-gnu.so\n",
      "building 'Model' extension\n",
      "x86_64-linux-gnu-gcc -pthread -Wno-unused-result -Wsign-compare -DNDEBUG -g -fwrapv -O2 -Wall -g -fstack-protector-strong -Wformat -Werror=format-security -g -fwrapv -O2 -g -fstack-protector-strong -Wformat -Werror=format-security -Wdate-time -D_FORTIFY_SOURCE=2 -fPIC -I/home/alh/PycharmProjects/.venv_calfews/include -I/usr/include/python3.8 -c Model.c -o build/temp.linux-x86_64-3.8/Model.o\n"
     ]
    },
    {
     "name": "stdout",
     "output_type": "stream",
     "text": [
      "x86_64-linux-gnu-gcc -pthread -shared -Wl,-O1 -Wl,-Bsymbolic-functions -Wl,-Bsymbolic-functions -Wl,-z,relro -g -fwrapv -O2 -Wl,-Bsymbolic-functions -Wl,-z,relro -g -fwrapv -O2 -g -fstack-protector-strong -Wformat -Werror=format-security -Wdate-time -D_FORTIFY_SOURCE=2 build/temp.linux-x86_64-3.8/Model.o -o build/lib.linux-x86_64-3.8/Model.cpython-38-x86_64-linux-gnu.so\n",
      "building 'Reservoir' extension\n",
      "x86_64-linux-gnu-gcc -pthread -Wno-unused-result -Wsign-compare -DNDEBUG -g -fwrapv -O2 -Wall -g -fstack-protector-strong -Wformat -Werror=format-security -g -fwrapv -O2 -g -fstack-protector-strong -Wformat -Werror=format-security -Wdate-time -D_FORTIFY_SOURCE=2 -fPIC -I/home/alh/PycharmProjects/.venv_calfews/include -I/usr/include/python3.8 -c Reservoir.c -o build/temp.linux-x86_64-3.8/Reservoir.o\n",
      "x86_64-linux-gnu-gcc -pthread -shared -Wl,-O1 -Wl,-Bsymbolic-functions -Wl,-Bsymbolic-functions -Wl,-z,relro -g -fwrapv -O2 -Wl,-Bsymbolic-functions -Wl,-z,relro -g -fwrapv -O2 -g -fstack-protector-strong -Wformat -Werror=format-security -Wdate-time -D_FORTIFY_SOURCE=2 build/temp.linux-x86_64-3.8/Reservoir.o -o build/lib.linux-x86_64-3.8/Reservoir.cpython-38-x86_64-linux-gnu.so\n",
      "building 'main' extension\n",
      "x86_64-linux-gnu-gcc -pthread -Wno-unused-result -Wsign-compare -DNDEBUG -g -fwrapv -O2 -Wall -g -fstack-protector-strong -Wformat -Werror=format-security -g -fwrapv -O2 -g -fstack-protector-strong -Wformat -Werror=format-security -Wdate-time -D_FORTIFY_SOURCE=2 -fPIC -I/home/alh/PycharmProjects/.venv_calfews/include -I/usr/include/python3.8 -c main.c -o build/temp.linux-x86_64-3.8/main.o\n",
      "x86_64-linux-gnu-gcc -pthread -shared -Wl,-O1 -Wl,-Bsymbolic-functions -Wl,-Bsymbolic-functions -Wl,-z,relro -g -fwrapv -O2 -Wl,-Bsymbolic-functions -Wl,-z,relro -g -fwrapv -O2 -g -fstack-protector-strong -Wformat -Werror=format-security -Wdate-time -D_FORTIFY_SOURCE=2 build/temp.linux-x86_64-3.8/main.o -o build/lib.linux-x86_64-3.8/main.cpython-38-x86_64-linux-gnu.so\n",
      "copying build/lib.linux-x86_64-3.8/Demand.cpython-38-x86_64-linux-gnu.so -> \n",
      "copying build/lib.linux-x86_64-3.8/Model.cpython-38-x86_64-linux-gnu.so -> \n",
      "copying build/lib.linux-x86_64-3.8/Reservoir.cpython-38-x86_64-linux-gnu.so -> \n",
      "copying build/lib.linux-x86_64-3.8/main.cpython-38-x86_64-linux-gnu.so -> \n",
      "Compiling Demand.pyx because it changed.\n",
      "Compiling Model.pyx because it changed.\n",
      "Compiling Reservoir.pyx because it changed.\n",
      "Compiling main.pyx because it changed.\n",
      "[1/4] Cythonizing Demand.pyx\n",
      "[2/4] Cythonizing Model.pyx\n",
      "[3/4] Cythonizing Reservoir.pyx\n",
      "[4/4] Cythonizing main.pyx\n",
      "running build_ext\n",
      "building 'Demand' extension\n",
      "creating build\n",
      "creating build/temp.linux-x86_64-3.8\n",
      "x86_64-linux-gnu-gcc -pthread -Wno-unused-result -Wsign-compare -DNDEBUG -g -fwrapv -O2 -Wall -g -fstack-protector-strong -Wformat -Werror=format-security -g -fwrapv -O2 -g -fstack-protector-strong -Wformat -Werror=format-security -Wdate-time -D_FORTIFY_SOURCE=2 -fPIC -I/home/alh/PycharmProjects/.venv_calfews/include -I/usr/include/python3.8 -c Demand.c -o build/temp.linux-x86_64-3.8/Demand.o\n",
      "creating build/lib.linux-x86_64-3.8\n",
      "x86_64-linux-gnu-gcc -pthread -shared -Wl,-O1 -Wl,-Bsymbolic-functions -Wl,-Bsymbolic-functions -Wl,-z,relro -g -fwrapv -O2 -Wl,-Bsymbolic-functions -Wl,-z,relro -g -fwrapv -O2 -g -fstack-protector-strong -Wformat -Werror=format-security -Wdate-time -D_FORTIFY_SOURCE=2 build/temp.linux-x86_64-3.8/Demand.o -o build/lib.linux-x86_64-3.8/Demand.cpython-38-x86_64-linux-gnu.so\n",
      "building 'Model' extension\n",
      "x86_64-linux-gnu-gcc -pthread -Wno-unused-result -Wsign-compare -DNDEBUG -g -fwrapv -O2 -Wall -g -fstack-protector-strong -Wformat -Werror=format-security -g -fwrapv -O2 -g -fstack-protector-strong -Wformat -Werror=format-security -Wdate-time -D_FORTIFY_SOURCE=2 -fPIC -I/home/alh/PycharmProjects/.venv_calfews/include -I/usr/include/python3.8 -c Model.c -o build/temp.linux-x86_64-3.8/Model.o\n",
      "x86_64-linux-gnu-gcc -pthread -shared -Wl,-O1 -Wl,-Bsymbolic-functions -Wl,-Bsymbolic-functions -Wl,-z,relro -g -fwrapv -O2 -Wl,-Bsymbolic-functions -Wl,-z,relro -g -fwrapv -O2 -g -fstack-protector-strong -Wformat -Werror=format-security -Wdate-time -D_FORTIFY_SOURCE=2 build/temp.linux-x86_64-3.8/Model.o -o build/lib.linux-x86_64-3.8/Model.cpython-38-x86_64-linux-gnu.so\n",
      "building 'Reservoir' extension\n",
      "x86_64-linux-gnu-gcc -pthread -Wno-unused-result -Wsign-compare -DNDEBUG -g -fwrapv -O2 -Wall -g -fstack-protector-strong -Wformat -Werror=format-security -g -fwrapv -O2 -g -fstack-protector-strong -Wformat -Werror=format-security -Wdate-time -D_FORTIFY_SOURCE=2 -fPIC -I/home/alh/PycharmProjects/.venv_calfews/include -I/usr/include/python3.8 -c Reservoir.c -o build/temp.linux-x86_64-3.8/Reservoir.o\n",
      "x86_64-linux-gnu-gcc -pthread -shared -Wl,-O1 -Wl,-Bsymbolic-functions -Wl,-Bsymbolic-functions -Wl,-z,relro -g -fwrapv -O2 -Wl,-Bsymbolic-functions -Wl,-z,relro -g -fwrapv -O2 -g -fstack-protector-strong -Wformat -Werror=format-security -Wdate-time -D_FORTIFY_SOURCE=2 build/temp.linux-x86_64-3.8/Reservoir.o -o build/lib.linux-x86_64-3.8/Reservoir.cpython-38-x86_64-linux-gnu.so\n",
      "building 'main' extension\n",
      "x86_64-linux-gnu-gcc -pthread -Wno-unused-result -Wsign-compare -DNDEBUG -g -fwrapv -O2 -Wall -g -fstack-protector-strong -Wformat -Werror=format-security -g -fwrapv -O2 -g -fstack-protector-strong -Wformat -Werror=format-security -Wdate-time -D_FORTIFY_SOURCE=2 -fPIC -I/home/alh/PycharmProjects/.venv_calfews/include -I/usr/include/python3.8 -c main.c -o build/temp.linux-x86_64-3.8/main.o\n",
      "x86_64-linux-gnu-gcc -pthread -shared -Wl,-O1 -Wl,-Bsymbolic-functions -Wl,-Bsymbolic-functions -Wl,-z,relro -g -fwrapv -O2 -Wl,-Bsymbolic-functions -Wl,-z,relro -g -fwrapv -O2 -g -fstack-protector-strong -Wformat -Werror=format-security -Wdate-time -D_FORTIFY_SOURCE=2 build/temp.linux-x86_64-3.8/main.o -o build/lib.linux-x86_64-3.8/main.cpython-38-x86_64-linux-gnu.so\n",
      "copying build/lib.linux-x86_64-3.8/Demand.cpython-38-x86_64-linux-gnu.so -> \n",
      "copying build/lib.linux-x86_64-3.8/Model.cpython-38-x86_64-linux-gnu.so -> \n",
      "copying build/lib.linux-x86_64-3.8/Reservoir.cpython-38-x86_64-linux-gnu.so -> \n",
      "copying build/lib.linux-x86_64-3.8/main.cpython-38-x86_64-linux-gnu.so -> \n",
      "Compiling Demand.pyx because it changed.\n",
      "Compiling Model.pyx because it changed.\n",
      "Compiling Reservoir.pyx because it changed.\n",
      "Compiling main.pyx because it changed.\n",
      "[1/4] Cythonizing Demand.pyx\n",
      "[2/4] Cythonizing Model.pyx\n",
      "[3/4] Cythonizing Reservoir.pyx\n",
      "[4/4] Cythonizing main.pyx\n",
      "running build_ext\n",
      "building 'Demand' extension\n",
      "creating build\n",
      "creating build/temp.linux-x86_64-3.8\n",
      "x86_64-linux-gnu-gcc -pthread -Wno-unused-result -Wsign-compare -DNDEBUG -g -fwrapv -O2 -Wall -g -fstack-protector-strong -Wformat -Werror=format-security -g -fwrapv -O2 -g -fstack-protector-strong -Wformat -Werror=format-security -Wdate-time -D_FORTIFY_SOURCE=2 -fPIC -I/home/alh/PycharmProjects/.venv_calfews/include -I/usr/include/python3.8 -c Demand.c -o build/temp.linux-x86_64-3.8/Demand.o\n",
      "creating build/lib.linux-x86_64-3.8\n",
      "x86_64-linux-gnu-gcc -pthread -shared -Wl,-O1 -Wl,-Bsymbolic-functions -Wl,-Bsymbolic-functions -Wl,-z,relro -g -fwrapv -O2 -Wl,-Bsymbolic-functions -Wl,-z,relro -g -fwrapv -O2 -g -fstack-protector-strong -Wformat -Werror=format-security -Wdate-time -D_FORTIFY_SOURCE=2 build/temp.linux-x86_64-3.8/Demand.o -o build/lib.linux-x86_64-3.8/Demand.cpython-38-x86_64-linux-gnu.so\n",
      "building 'Model' extension\n",
      "x86_64-linux-gnu-gcc -pthread -Wno-unused-result -Wsign-compare -DNDEBUG -g -fwrapv -O2 -Wall -g -fstack-protector-strong -Wformat -Werror=format-security -g -fwrapv -O2 -g -fstack-protector-strong -Wformat -Werror=format-security -Wdate-time -D_FORTIFY_SOURCE=2 -fPIC -I/home/alh/PycharmProjects/.venv_calfews/include -I/usr/include/python3.8 -c Model.c -o build/temp.linux-x86_64-3.8/Model.o\n",
      "x86_64-linux-gnu-gcc -pthread -shared -Wl,-O1 -Wl,-Bsymbolic-functions -Wl,-Bsymbolic-functions -Wl,-z,relro -g -fwrapv -O2 -Wl,-Bsymbolic-functions -Wl,-z,relro -g -fwrapv -O2 -g -fstack-protector-strong -Wformat -Werror=format-security -Wdate-time -D_FORTIFY_SOURCE=2 build/temp.linux-x86_64-3.8/Model.o -o build/lib.linux-x86_64-3.8/Model.cpython-38-x86_64-linux-gnu.so\n",
      "building 'Reservoir' extension\n",
      "x86_64-linux-gnu-gcc -pthread -Wno-unused-result -Wsign-compare -DNDEBUG -g -fwrapv -O2 -Wall -g -fstack-protector-strong -Wformat -Werror=format-security -g -fwrapv -O2 -g -fstack-protector-strong -Wformat -Werror=format-security -Wdate-time -D_FORTIFY_SOURCE=2 -fPIC -I/home/alh/PycharmProjects/.venv_calfews/include -I/usr/include/python3.8 -c Reservoir.c -o build/temp.linux-x86_64-3.8/Reservoir.o\n"
     ]
    },
    {
     "name": "stdout",
     "output_type": "stream",
     "text": [
      "x86_64-linux-gnu-gcc -pthread -shared -Wl,-O1 -Wl,-Bsymbolic-functions -Wl,-Bsymbolic-functions -Wl,-z,relro -g -fwrapv -O2 -Wl,-Bsymbolic-functions -Wl,-z,relro -g -fwrapv -O2 -g -fstack-protector-strong -Wformat -Werror=format-security -Wdate-time -D_FORTIFY_SOURCE=2 build/temp.linux-x86_64-3.8/Reservoir.o -o build/lib.linux-x86_64-3.8/Reservoir.cpython-38-x86_64-linux-gnu.so\n",
      "building 'main' extension\n",
      "x86_64-linux-gnu-gcc -pthread -Wno-unused-result -Wsign-compare -DNDEBUG -g -fwrapv -O2 -Wall -g -fstack-protector-strong -Wformat -Werror=format-security -g -fwrapv -O2 -g -fstack-protector-strong -Wformat -Werror=format-security -Wdate-time -D_FORTIFY_SOURCE=2 -fPIC -I/home/alh/PycharmProjects/.venv_calfews/include -I/usr/include/python3.8 -c main.c -o build/temp.linux-x86_64-3.8/main.o\n",
      "x86_64-linux-gnu-gcc -pthread -shared -Wl,-O1 -Wl,-Bsymbolic-functions -Wl,-Bsymbolic-functions -Wl,-z,relro -g -fwrapv -O2 -Wl,-Bsymbolic-functions -Wl,-z,relro -g -fwrapv -O2 -g -fstack-protector-strong -Wformat -Werror=format-security -Wdate-time -D_FORTIFY_SOURCE=2 build/temp.linux-x86_64-3.8/main.o -o build/lib.linux-x86_64-3.8/main.cpython-38-x86_64-linux-gnu.so\n",
      "copying build/lib.linux-x86_64-3.8/Demand.cpython-38-x86_64-linux-gnu.so -> \n",
      "copying build/lib.linux-x86_64-3.8/Model.cpython-38-x86_64-linux-gnu.so -> \n",
      "copying build/lib.linux-x86_64-3.8/Reservoir.cpython-38-x86_64-linux-gnu.so -> \n",
      "copying build/lib.linux-x86_64-3.8/main.cpython-38-x86_64-linux-gnu.so -> \n",
      "\n",
      "\n",
      "Starting timings\n",
      "50 4 20 py_slow\n",
      "py_slow: answer = 10494.223405436973, time = 1.2137159330304712, efficiency  = 1.0\n",
      "50 4 20 py_fast\n",
      "py_fast: answer = 9851.320332349133, time = 0.27174293203279376, efficiency relative to py_slow = 4.4664121489790976\n",
      "50 4 20 py_numpy\n",
      "py_numpy: answer = 9851.320332349133, time = 0.31588347698561847, efficiency relative to py_fast = 0.8602632040965082\n",
      "50 4 20 py_numpy_reservoir\n",
      "py_numpy_reservoir: answer = 9851.320332349133, time = 0.37548975308891386, efficiency relative to py_fast = 0.7237026571227007\n",
      "50 4 20 py_cy\n",
      "py_cy: answer = 9851.320332349133, time = 0.23869444895535707, efficiency relative to py_fast = 1.1384551807638297\n",
      "50 4 20 cy\n",
      "cy: answer = 9851.320332349133, time = 0.13408764090854675, efficiency relative to py_fast = 2.026606853484234\n",
      "50 4 20 cy_numpy\n",
      "cy_numpy: answer = 9851.320332349133, time = 0.09439469501376152, efficiency relative to py_fast = 2.878794533879019\n",
      "50 4 20 cy_numpy_reservoir\n",
      "cy_numpy_reservoir: answer = 9851.320332349133, time = 0.23151001799851656, efficiency relative to py_fast = 1.1737847648326605\n",
      "50 4 20 cy_numpy_noCheck\n",
      "cy_numpy_noCheck: answer = 9851.320332349133, time = 0.09675120795145631, efficiency relative to py_fast = 2.8086774086493818\n"
     ]
    }
   ],
   "source": [
    "! sh time_versions.sh "
   ]
  }
 ],
 "metadata": {
  "celltoolbar": "Slideshow",
  "kernelspec": {
   "display_name": ".venv_calfews",
   "language": "python",
   "name": ".venv_calfews"
  },
  "language_info": {
   "codemirror_mode": {
    "name": "ipython",
    "version": 3
   },
   "file_extension": ".py",
   "mimetype": "text/x-python",
   "name": "python",
   "nbconvert_exporter": "python",
   "pygments_lexer": "ipython3",
   "version": "3.8.10"
  }
 },
 "nbformat": 4,
 "nbformat_minor": 4
}
